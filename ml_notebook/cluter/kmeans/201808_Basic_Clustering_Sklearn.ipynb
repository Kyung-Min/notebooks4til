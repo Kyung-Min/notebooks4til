{
 "cells": [
  {
   "cell_type": "markdown",
   "metadata": {},
   "source": [
    "# 요약\n",
    "\n",
    "- 자료: 처음 시작하는 머신러닝 10장\n",
    "- 환경: \n",
    "    - https://hub.docker.com/r/taewanme/pyml/\n",
    "    - http://taewan.kim/post/python_env_for_machine_learning/\n",
    "- 작성일: 2018.08.19"
   ]
  },
  {
   "cell_type": "markdown",
   "metadata": {},
   "source": [
    "## 데이터 셋"
   ]
  },
  {
   "cell_type": "markdown",
   "metadata": {},
   "source": [
    "- http://archive.ics.uci.edu/ml/datasets/Online+Retail"
   ]
  },
  {
   "cell_type": "markdown",
   "metadata": {},
   "source": [
    "## 데이터 다운로드"
   ]
  },
  {
   "cell_type": "code",
   "execution_count": 61,
   "metadata": {},
   "outputs": [
    {
     "name": "stdout",
     "output_type": "stream",
     "text": [
      "ls: '*.xslx'에 접근할 수 없습니다: 그런 파일이나 디렉터리가 없습니다\r\n"
     ]
    }
   ],
   "source": [
    "!ls *.xslx"
   ]
  },
  {
   "cell_type": "code",
   "execution_count": 62,
   "metadata": {},
   "outputs": [
    {
     "name": "stdout",
     "output_type": "stream",
     "text": [
      "./data.xlsx found.\n"
     ]
    }
   ],
   "source": [
    "%%sh\n",
    "file=\"./data.xlsx\"\n",
    "if [ -f \"$file\" ]\n",
    "then\n",
    "\techo \"$file found.\"\n",
    "else\n",
    "    curl -o ./data.xlsx http://archive.ics.uci.edu/ml/machine-learning-databases/00352/Online%20Retail.xlsx\n",
    "\techo \"$file is downloaded.\"\n",
    "fi"
   ]
  },
  {
   "cell_type": "markdown",
   "metadata": {},
   "source": [
    "## 목표\n",
    "\n",
    "- StockCode와 CusteomerID로 군집화"
   ]
  },
  {
   "cell_type": "markdown",
   "metadata": {},
   "source": [
    "## Description of Features"
   ]
  },
  {
   "cell_type": "markdown",
   "metadata": {},
   "source": [
    "|Name of Feature|데이터 형|의미|Unique|특이 사항|\n",
    "|----| ---- | ---- | ---- | ---- |\n",
    "|InvoiceNo|6자리 정수형|주문번호|Y|c문자로 시작하는 주문 번호는 주문 취소됨을 의미|\n",
    "|StockCode|5자리 정수형|제품번호|X||\n",
    "|Description|문자형|설명|X||\n",
    "|Quantity|수치형|수량||X||\n",
    "|InvoiceDate|주문일자|문자형|X||\n",
    "|UnitPrice|단위 가격|수치형|X|영국화폐 Sterling|\n",
    "|CustomerID|5자리 정수형|고객번호|X||\n",
    "|Country|String|국가명||X||\n",
    "\n",
    "\n",
    "\n"
   ]
  },
  {
   "cell_type": "markdown",
   "metadata": {},
   "source": [
    "## 데이터 전처리"
   ]
  },
  {
   "cell_type": "code",
   "execution_count": 151,
   "metadata": {},
   "outputs": [],
   "source": [
    "import pandas as pd\n",
    "\n",
    "df=pd.read_excel(\"./data.xlsx\")"
   ]
  },
  {
   "cell_type": "code",
   "execution_count": 152,
   "metadata": {},
   "outputs": [
    {
     "data": {
      "text/html": [
       "<div>\n",
       "<style scoped>\n",
       "    .dataframe tbody tr th:only-of-type {\n",
       "        vertical-align: middle;\n",
       "    }\n",
       "\n",
       "    .dataframe tbody tr th {\n",
       "        vertical-align: top;\n",
       "    }\n",
       "\n",
       "    .dataframe thead th {\n",
       "        text-align: right;\n",
       "    }\n",
       "</style>\n",
       "<table border=\"1\" class=\"dataframe\">\n",
       "  <thead>\n",
       "    <tr style=\"text-align: right;\">\n",
       "      <th></th>\n",
       "      <th>InvoiceNo</th>\n",
       "      <th>StockCode</th>\n",
       "      <th>Description</th>\n",
       "      <th>Quantity</th>\n",
       "      <th>InvoiceDate</th>\n",
       "      <th>UnitPrice</th>\n",
       "      <th>CustomerID</th>\n",
       "      <th>Country</th>\n",
       "    </tr>\n",
       "  </thead>\n",
       "  <tbody>\n",
       "    <tr>\n",
       "      <th>0</th>\n",
       "      <td>536365</td>\n",
       "      <td>85123A</td>\n",
       "      <td>WHITE HANGING HEART T-LIGHT HOLDER</td>\n",
       "      <td>6</td>\n",
       "      <td>2010-12-01 08:26:00</td>\n",
       "      <td>2.55</td>\n",
       "      <td>17850.0</td>\n",
       "      <td>United Kingdom</td>\n",
       "    </tr>\n",
       "    <tr>\n",
       "      <th>1</th>\n",
       "      <td>536365</td>\n",
       "      <td>71053</td>\n",
       "      <td>WHITE METAL LANTERN</td>\n",
       "      <td>6</td>\n",
       "      <td>2010-12-01 08:26:00</td>\n",
       "      <td>3.39</td>\n",
       "      <td>17850.0</td>\n",
       "      <td>United Kingdom</td>\n",
       "    </tr>\n",
       "    <tr>\n",
       "      <th>2</th>\n",
       "      <td>536365</td>\n",
       "      <td>84406B</td>\n",
       "      <td>CREAM CUPID HEARTS COAT HANGER</td>\n",
       "      <td>8</td>\n",
       "      <td>2010-12-01 08:26:00</td>\n",
       "      <td>2.75</td>\n",
       "      <td>17850.0</td>\n",
       "      <td>United Kingdom</td>\n",
       "    </tr>\n",
       "    <tr>\n",
       "      <th>3</th>\n",
       "      <td>536365</td>\n",
       "      <td>84029G</td>\n",
       "      <td>KNITTED UNION FLAG HOT WATER BOTTLE</td>\n",
       "      <td>6</td>\n",
       "      <td>2010-12-01 08:26:00</td>\n",
       "      <td>3.39</td>\n",
       "      <td>17850.0</td>\n",
       "      <td>United Kingdom</td>\n",
       "    </tr>\n",
       "    <tr>\n",
       "      <th>4</th>\n",
       "      <td>536365</td>\n",
       "      <td>84029E</td>\n",
       "      <td>RED WOOLLY HOTTIE WHITE HEART.</td>\n",
       "      <td>6</td>\n",
       "      <td>2010-12-01 08:26:00</td>\n",
       "      <td>3.39</td>\n",
       "      <td>17850.0</td>\n",
       "      <td>United Kingdom</td>\n",
       "    </tr>\n",
       "  </tbody>\n",
       "</table>\n",
       "</div>"
      ],
      "text/plain": [
       "  InvoiceNo StockCode                          Description  Quantity  \\\n",
       "0    536365    85123A   WHITE HANGING HEART T-LIGHT HOLDER         6   \n",
       "1    536365     71053                  WHITE METAL LANTERN         6   \n",
       "2    536365    84406B       CREAM CUPID HEARTS COAT HANGER         8   \n",
       "3    536365    84029G  KNITTED UNION FLAG HOT WATER BOTTLE         6   \n",
       "4    536365    84029E       RED WOOLLY HOTTIE WHITE HEART.         6   \n",
       "\n",
       "          InvoiceDate  UnitPrice  CustomerID         Country  \n",
       "0 2010-12-01 08:26:00       2.55     17850.0  United Kingdom  \n",
       "1 2010-12-01 08:26:00       3.39     17850.0  United Kingdom  \n",
       "2 2010-12-01 08:26:00       2.75     17850.0  United Kingdom  \n",
       "3 2010-12-01 08:26:00       3.39     17850.0  United Kingdom  \n",
       "4 2010-12-01 08:26:00       3.39     17850.0  United Kingdom  "
      ]
     },
     "execution_count": 152,
     "metadata": {},
     "output_type": "execute_result"
    }
   ],
   "source": [
    "df.head()"
   ]
  },
  {
   "cell_type": "markdown",
   "metadata": {},
   "source": [
    "- 고유 사용자 수와 구매 상품수를 사용하여 통계량을 조사\n",
    "- 전체 사용자 수 및 상품수 확인\n",
    "- 한 사용자가 구매한 고유 상품 수의 기초 통계량"
   ]
  },
  {
   "cell_type": "code",
   "execution_count": 153,
   "metadata": {},
   "outputs": [],
   "source": [
    "df.to_csv(\"./temp.csv\", header=False, index=False)"
   ]
  },
  {
   "cell_type": "code",
   "execution_count": 154,
   "metadata": {},
   "outputs": [
    {
     "name": "stdout",
     "output_type": "stream",
     "text": [
      "536365,85123A,WHITE HANGING HEART T-LIGHT HOLDER,6,2010-12-01 08:26:00,2.55,17850.0,United Kingdom\r\n",
      "536365,71053,WHITE METAL LANTERN,6,2010-12-01 08:26:00,3.39,17850.0,United Kingdom\r\n",
      "536365,84406B,CREAM CUPID HEARTS COAT HANGER,8,2010-12-01 08:26:00,2.75,17850.0,United Kingdom\r\n",
      "536365,84029G,KNITTED UNION FLAG HOT WATER BOTTLE,6,2010-12-01 08:26:00,3.39,17850.0,United Kingdom\r\n",
      "536365,84029E,RED WOOLLY HOTTIE WHITE HEART.,6,2010-12-01 08:26:00,3.39,17850.0,United Kingdom\r\n",
      "536365,22752,SET 7 BABUSHKA NESTING BOXES,2,2010-12-01 08:26:00,7.65,17850.0,United Kingdom\r\n",
      "536365,21730,GLASS STAR FROSTED T-LIGHT HOLDER,6,2010-12-01 08:26:00,4.25,17850.0,United Kingdom\r\n",
      "536366,22633,HAND WARMER UNION JACK,6,2010-12-01 08:28:00,1.85,17850.0,United Kingdom\r\n",
      "536366,22632,HAND WARMER RED POLKA DOT,6,2010-12-01 08:28:00,1.85,17850.0,United Kingdom\r\n",
      "536367,84879,ASSORTED COLOUR BIRD ORNAMENT,32,2010-12-01 08:34:00,1.69,13047.0,United Kingdom\r\n"
     ]
    }
   ],
   "source": [
    "!head ./temp.csv"
   ]
  },
  {
   "cell_type": "code",
   "execution_count": 155,
   "metadata": {},
   "outputs": [],
   "source": [
    "import scipy\n",
    "from scipy import stats\n",
    "import time"
   ]
  },
  {
   "cell_type": "code",
   "execution_count": 156,
   "metadata": {},
   "outputs": [],
   "source": [
    "user_product_dic={}\n",
    "product_user_dic={}\n",
    "product_id_name_dic={}"
   ]
  },
  {
   "cell_type": "code",
   "execution_count": 157,
   "metadata": {},
   "outputs": [],
   "source": [
    "for line in open(\"./temp.csv\"):\n",
    "    line_items = line.strip().split(',')\n",
    "    user_code = line_items[6]\n",
    "    product_id = line_items[1]\n",
    "    product_name = line_items[2]\n",
    "    \n",
    "    \n",
    "    if len(user_code) == 0:\n",
    "        continue\n",
    "        \n",
    "    country = line_items[7]\n",
    "    if country != 'United Kingdom':\n",
    "        continue\n",
    "        \n",
    "    try:\n",
    "        invoice_year = time.strptime(line_items[4], '%Y-%m-%d %H:%M:%S').tm_year\n",
    "    \n",
    "    except ValueError:\n",
    "        print(ValueError)\n",
    "        continue\n",
    "        \n",
    "    if invoice_year != 2011:\n",
    "        continue\n",
    "        \n",
    "    user_product_dic.setdefault(user_code, set())\n",
    "    user_product_dic[user_code].add(product_id)\n",
    "    \n",
    "    product_user_dic.setdefault(product_id, set())\n",
    "    product_user_dic[product_id].add(user_code)\n",
    "    \n",
    "    product_id_name_dic[product_id]=product_name\n",
    "    \n",
    "    \n",
    "product_per_user_li = [len(x) for x in user_product_dic.values()]\n",
    "            "
   ]
  },
  {
   "cell_type": "code",
   "execution_count": 158,
   "metadata": {},
   "outputs": [
    {
     "data": {
      "text/plain": [
       "('# of users', 3834)"
      ]
     },
     "execution_count": 158,
     "metadata": {},
     "output_type": "execute_result"
    }
   ],
   "source": [
    "\"# of users\", len(user_product_dic)"
   ]
  },
  {
   "cell_type": "code",
   "execution_count": 159,
   "metadata": {},
   "outputs": [
    {
     "data": {
      "text/plain": [
       "('# of products', 3544)"
      ]
     },
     "execution_count": 159,
     "metadata": {},
     "output_type": "execute_result"
    }
   ],
   "source": [
    "\"# of products\", len(product_user_dic)"
   ]
  },
  {
   "cell_type": "code",
   "execution_count": 160,
   "metadata": {},
   "outputs": [
    {
     "data": {
      "text/plain": [
       "DescribeResult(nobs=3834, minmax=(1, 1590), mean=58.242566510172146, variance=6087.575896985531, skewness=5.818248895880259, kurtosis=72.40326298621056)"
      ]
     },
     "execution_count": 160,
     "metadata": {},
     "output_type": "execute_result"
    }
   ],
   "source": [
    "stats.describe(product_per_user_li)"
   ]
  },
  {
   "cell_type": "code",
   "execution_count": 161,
   "metadata": {},
   "outputs": [],
   "source": [
    "import matplotlib.pyplot as plt\n",
    "from collections import Counter"
   ]
  },
  {
   "cell_type": "code",
   "execution_count": 162,
   "metadata": {},
   "outputs": [],
   "source": [
    "plot_data_all = Counter(product_per_user_li)"
   ]
  },
  {
   "cell_type": "code",
   "execution_count": 163,
   "metadata": {},
   "outputs": [
    {
     "data": {
      "image/png": "[encoded data removed]",
      "text/plain": [
       "<Figure size 432x288 with 1 Axes>"
      ]
     },
     "metadata": {},
     "output_type": "display_data"
    }
   ],
   "source": [
    "plot_data_x = list(plot_data_all.keys())\n",
    "plot_data_y = list(plot_data_all.values())\n",
    "plt.scatter(plot_data_x, plot_data_y, marker=\"+\")\n",
    "plt.grid()\n",
    "plt.xlabel(\"product\")\n",
    "plt.ylabel(\"user\")\n",
    "plt.ylim(0, 100)\n",
    "plt.xlim(0, 1800)\n",
    "plt.show()"
   ]
  },
  {
   "cell_type": "markdown",
   "metadata": {},
   "source": [
    "- 600개 이상을 구매하는 사용자는 거의 없음\n",
    "    - 1개 구매자 노이즈로 간주\n",
    "    - 600개 이상 구매자는 노이즈로 간주\n",
    "    - 1개 혹은 600개 이상 구매자 제거"
   ]
  },
  {
   "cell_type": "code",
   "execution_count": 164,
   "metadata": {},
   "outputs": [],
   "source": [
    "min_product_user_li = [k for k, v in user_product_dic.items() if len(v)==1]"
   ]
  },
  {
   "cell_type": "code",
   "execution_count": 165,
   "metadata": {},
   "outputs": [
    {
     "data": {
      "text/plain": [
       "94"
      ]
     },
     "execution_count": 165,
     "metadata": {},
     "output_type": "execute_result"
    }
   ],
   "source": [
    "len(min_product_user_li)"
   ]
  },
  {
   "cell_type": "code",
   "execution_count": 166,
   "metadata": {},
   "outputs": [],
   "source": [
    "max_product_user_li = [k for k, v in user_product_dic.items() if len(v)>=600]"
   ]
  },
  {
   "cell_type": "code",
   "execution_count": 167,
   "metadata": {},
   "outputs": [
    {
     "data": {
      "text/plain": [
       "7"
      ]
     },
     "execution_count": 167,
     "metadata": {},
     "output_type": "execute_result"
    }
   ],
   "source": [
    "len(max_product_user_li)"
   ]
  },
  {
   "cell_type": "code",
   "execution_count": 168,
   "metadata": {},
   "outputs": [
    {
     "data": {
      "text/plain": [
       "('1개 상품 구입 고객', 94)"
      ]
     },
     "execution_count": 168,
     "metadata": {},
     "output_type": "execute_result"
    }
   ],
   "source": [
    "\"1개 상품 구입 고객\", len(min_product_user_li)"
   ]
  },
  {
   "cell_type": "code",
   "execution_count": 169,
   "metadata": {},
   "outputs": [
    {
     "data": {
      "text/plain": [
       "('600개 이상 상품 구입 고객', 7)"
      ]
     },
     "execution_count": 169,
     "metadata": {},
     "output_type": "execute_result"
    }
   ],
   "source": [
    "\"600개 이상 상품 구입 고객\", len(max_product_user_li)"
   ]
  },
  {
   "cell_type": "code",
   "execution_count": 170,
   "metadata": {},
   "outputs": [],
   "source": [
    "user_product_dic = {k:v for k, v in user_product_dic.items() if len(v)>1 and len(v)<600}"
   ]
  },
  {
   "cell_type": "code",
   "execution_count": 171,
   "metadata": {},
   "outputs": [
    {
     "data": {
      "text/plain": [
       "('분석 대상 고객 수', 3733)"
      ]
     },
     "execution_count": 171,
     "metadata": {},
     "output_type": "execute_result"
    }
   ],
   "source": [
    "\"분석 대상 고객 수\", len(user_product_dic)"
   ]
  },
  {
   "cell_type": "code",
   "execution_count": 172,
   "metadata": {},
   "outputs": [
    {
     "data": {
      "text/plain": [
       "('# of left items', 3524)"
      ]
     },
     "execution_count": 172,
     "metadata": {},
     "output_type": "execute_result"
    }
   ],
   "source": [
    "id_product_dic = {}\n",
    "for product_set_li in user_product_dic.values():\n",
    "    for x in product_set_li:\n",
    "        if x in id_product_dic:\n",
    "            product_id = id_product_dic[x]\n",
    "        else:\n",
    "            #product_id: index from 0\n",
    "            id_product_dic.setdefault(x, len(id_product_dic))\n",
    "\n",
    "            \n",
    "\"# of left items\", len(id_product_dic)\n",
    "        "
   ]
  },
  {
   "cell_type": "code",
   "execution_count": 173,
   "metadata": {},
   "outputs": [
    {
     "data": {
      "text/plain": [
       "{'20718': 0,\n",
       " '22458': 1,\n",
       " '22421': 2,\n",
       " '85123A': 3,\n",
       " '23199': 4,\n",
       " '22379': 5,\n",
       " '22751': 6,\n",
       " '21498': 7,\n",
       " '23203': 8,\n",
       " '22381': 9,\n",
       " '22382': 10,\n",
       " '22384': 11,\n",
       " '22419': 12,\n",
       " '84997C': 13,\n",
       " '20728': 14,\n",
       " '21519': 15,\n",
       " '23153': 16,\n",
       " '23202': 17,\n",
       " '23350': 18,\n",
       " '22667': 19,\n",
       " '22383': 20,\n",
       " '22386': 21,\n",
       " '20682': 22,\n",
       " '20727': 23,\n",
       " '22742': 24,\n",
       " '22420': 25,\n",
       " '21930': 26,\n",
       " '22862': 27,\n",
       " '84997D': 28,\n",
       " '22808': 29,\n",
       " '23206': 30,\n",
       " '21499': 31,\n",
       " '22961': 32,\n",
       " '21891': 33,\n",
       " '23301': 34,\n",
       " '22302': 35,\n",
       " '23256': 36,\n",
       " '22303': 37,\n",
       " '23222': 38,\n",
       " '23103': 39,\n",
       " '85099C': 40,\n",
       " '22809': 41,\n",
       " '85099B': 42,\n",
       " '22896': 43,\n",
       " '84755': 44,\n",
       " '23582': 45,\n",
       " '22898': 46,\n",
       " '22960': 47,\n",
       " '48138': 48,\n",
       " '21411': 49,\n",
       " '23504': 50,\n",
       " '23503': 51,\n",
       " '21231': 52,\n",
       " '23093': 53,\n",
       " '23177': 54,\n",
       " '22062': 55,\n",
       " '22555': 56,\n",
       " '23490': 57,\n",
       " '22986': 58,\n",
       " '48185': 59,\n",
       " '22418': 60,\n",
       " '22557': 61,\n",
       " '23111': 62,\n",
       " '21733': 63,\n",
       " '23284': 64,\n",
       " '22739': 65,\n",
       " '84077': 66,\n",
       " '70006': 67,\n",
       " '20829': 68,\n",
       " '22508': 69,\n",
       " '23234': 70,\n",
       " '23184': 71,\n",
       " '21363': 72,\n",
       " '22457': 73,\n",
       " '22485': 74,\n",
       " '22759': 75,\n",
       " '22693': 76,\n",
       " '22653': 77,\n",
       " '21523': 78,\n",
       " '22768': 79,\n",
       " '84879': 80,\n",
       " '16156S': 81,\n",
       " '23413': 82,\n",
       " '72351B': 83,\n",
       " '23092': 84,\n",
       " '22060': 85,\n",
       " '84970S': 86,\n",
       " '85066': 87,\n",
       " '23118': 88,\n",
       " '48194': 89,\n",
       " '22652': 90,\n",
       " '21232': 91,\n",
       " '22151': 92,\n",
       " '23176': 93,\n",
       " '84991': 94,\n",
       " '22738': 95,\n",
       " '22904': 96,\n",
       " '22582': 97,\n",
       " '23144': 98,\n",
       " '48188': 99,\n",
       " '72351A': 100,\n",
       " '16161P': 101,\n",
       " '22109': 102,\n",
       " '71459': 103,\n",
       " '23230': 104,\n",
       " '22583': 105,\n",
       " '84970L': 106,\n",
       " '84378': 107,\n",
       " '22915': 108,\n",
       " '21745': 109,\n",
       " '22644': 110,\n",
       " '22649': 111,\n",
       " '21917': 112,\n",
       " '22726': 113,\n",
       " '21911': 114,\n",
       " '85049G': 115,\n",
       " '22725': 116,\n",
       " '22727': 117,\n",
       " '21259': 118,\n",
       " '21790': 119,\n",
       " '22625': 120,\n",
       " '84508A': 121,\n",
       " '23428': 122,\n",
       " '21704': 123,\n",
       " '22998': 124,\n",
       " '84691': 125,\n",
       " '84978': 126,\n",
       " '22796': 127,\n",
       " '20724': 128,\n",
       " '23367': 129,\n",
       " '23109': 130,\n",
       " '23319': 131,\n",
       " '23209': 132,\n",
       " '23255': 133,\n",
       " '22963': 134,\n",
       " '23145': 135,\n",
       " '84997B': 136,\n",
       " '21754': 137,\n",
       " '20725': 138,\n",
       " '21756': 139,\n",
       " '22767': 140,\n",
       " '22624': 141,\n",
       " '21916': 142,\n",
       " '22139': 143,\n",
       " '23529': 144,\n",
       " '21121': 145,\n",
       " '22967': 146,\n",
       " '22911': 147,\n",
       " '22907': 148,\n",
       " '84946': 149,\n",
       " '22193': 150,\n",
       " '21755': 151,\n",
       " '23344': 152,\n",
       " '23506': 153,\n",
       " '22690': 154,\n",
       " '22776': 155,\n",
       " '23247': 156,\n",
       " '22171': 157,\n",
       " '22952': 158,\n",
       " '22662': 159,\n",
       " '22969': 160,\n",
       " '22980': 161,\n",
       " '22191': 162,\n",
       " '21889': 163,\n",
       " '23505': 164,\n",
       " '23000': 165,\n",
       " '23368': 166,\n",
       " '22385': 167,\n",
       " '22867': 168,\n",
       " '22530': 169,\n",
       " '23508': 170,\n",
       " '22554': 171,\n",
       " '84347': 172,\n",
       " '23300': 173,\n",
       " '84997A': 174,\n",
       " '23254': 175,\n",
       " '22616': 176,\n",
       " '22865': 177,\n",
       " '21918': 178,\n",
       " '21213': 179,\n",
       " '22534': 180,\n",
       " '23238': 181,\n",
       " '22427': 182,\n",
       " '22720': 183,\n",
       " '22962': 184,\n",
       " '22356': 185,\n",
       " '22846': 186,\n",
       " '23528': 187,\n",
       " '23355': 188,\n",
       " '22847': 189,\n",
       " '22551': 190,\n",
       " '23298': 191,\n",
       " '22813': 192,\n",
       " '22113': 193,\n",
       " '22174': 194,\n",
       " '22791': 195,\n",
       " '21531': 196,\n",
       " '21615': 197,\n",
       " '84536A': 198,\n",
       " '22779': 199,\n",
       " '21896': 200,\n",
       " '21084': 201,\n",
       " '23332': 202,\n",
       " '21845': 203,\n",
       " '84452': 204,\n",
       " '85032C': 205,\n",
       " '84559A': 206,\n",
       " '22050': 207,\n",
       " '21898': 208,\n",
       " '21329': 209,\n",
       " '22851': 210,\n",
       " '22699': 211,\n",
       " '21041': 212,\n",
       " '85129D': 213,\n",
       " '21866': 214,\n",
       " '21991': 215,\n",
       " '23175': 216,\n",
       " '23331': 217,\n",
       " '71053': 218,\n",
       " '21537': 219,\n",
       " '22553': 220,\n",
       " '21263': 221,\n",
       " '21288': 222,\n",
       " '21265': 223,\n",
       " '23171': 224,\n",
       " '21929': 225,\n",
       " '72802B': 226,\n",
       " '22745': 227,\n",
       " '22488': 228,\n",
       " '22478': 229,\n",
       " '22342': 230,\n",
       " '84569A': 231,\n",
       " '22072': 232,\n",
       " '21894': 233,\n",
       " '21621': 234,\n",
       " '82494L': 235,\n",
       " '23302': 236,\n",
       " '22499': 237,\n",
       " '21035': 238,\n",
       " 'POST': 239,\n",
       " '21823': 240,\n",
       " '85204': 241,\n",
       " '22549': 242,\n",
       " '21381': 243,\n",
       " '22336': 244,\n",
       " '22558': 245,\n",
       " '21609': 246,\n",
       " '22423': 247,\n",
       " '85188A': 248,\n",
       " '47504K': 249,\n",
       " '22561': 250,\n",
       " '21043': 251,\n",
       " '35911B': 252,\n",
       " '82483': 253,\n",
       " '85035B': 254,\n",
       " '90094': 255,\n",
       " '21034': 256,\n",
       " '20979': 257,\n",
       " '22464': 258,\n",
       " '22311': 259,\n",
       " '84944': 260,\n",
       " '22411': 261,\n",
       " '21090': 262,\n",
       " '20992': 263,\n",
       " '22993': 264,\n",
       " '22470': 265,\n",
       " '22852': 266,\n",
       " '22389': 267,\n",
       " '21993': 268,\n",
       " '90096': 269,\n",
       " '47593B': 270,\n",
       " '21080': 271,\n",
       " '23061': 272,\n",
       " '21992': 273,\n",
       " '22393': 274,\n",
       " '23334': 275,\n",
       " '22341': 276,\n",
       " '22916': 277,\n",
       " '82482': 278,\n",
       " '23546': 279,\n",
       " '22178': 280,\n",
       " '22905': 281,\n",
       " '22283': 282,\n",
       " '21528': 283,\n",
       " '22403': 284,\n",
       " '21261': 285,\n",
       " '85061W': 286,\n",
       " '47559B': 287,\n",
       " '48173C': 288,\n",
       " '85232D': 289,\n",
       " '20978': 290,\n",
       " '85059': 291,\n",
       " '23166': 292,\n",
       " '21534': 293,\n",
       " '90108': 294,\n",
       " '22722': 295,\n",
       " '84950': 296,\n",
       " '21977': 297,\n",
       " '22806': 298,\n",
       " '22456': 299,\n",
       " '21864': 300,\n",
       " '22158': 301,\n",
       " '21844': 302,\n",
       " '22697': 303,\n",
       " '22805': 304,\n",
       " '90098': 305,\n",
       " '22314': 306,\n",
       " '85200': 307,\n",
       " '21264': 308,\n",
       " '21843': 309,\n",
       " '22918': 310,\n",
       " '22371': 311,\n",
       " '23468': 312,\n",
       " '22047': 313,\n",
       " '84813': 314,\n",
       " '23330': 315,\n",
       " '22860': 316,\n",
       " '85062': 317,\n",
       " '35598B': 318,\n",
       " '22577': 319,\n",
       " '84380': 320,\n",
       " '23188': 321,\n",
       " '22723': 322,\n",
       " '21390': 323,\n",
       " '22622': 324,\n",
       " '21535': 325,\n",
       " '35809A': 326,\n",
       " '22211': 327,\n",
       " '82484': 328,\n",
       " '85032A': 329,\n",
       " '21055': 330,\n",
       " '21618': 331,\n",
       " '47566': 332,\n",
       " '85130D': 333,\n",
       " '21361': 334,\n",
       " '85187': 335,\n",
       " '22092': 336,\n",
       " '85078': 337,\n",
       " '22920': 338,\n",
       " '85032D': 339,\n",
       " '72800B': 340,\n",
       " '23173': 341,\n",
       " '22487': 342,\n",
       " '20996': 343,\n",
       " '22312': 344,\n",
       " '22780': 345,\n",
       " '22795': 346,\n",
       " '22919': 347,\n",
       " '23187': 348,\n",
       " '21056': 349,\n",
       " '22378': 350,\n",
       " '22804': 351,\n",
       " '22227': 352,\n",
       " '22441': 353,\n",
       " '21212': 354,\n",
       " '23148': 355,\n",
       " '84766': 356,\n",
       " '84875B': 357,\n",
       " '35914': 358,\n",
       " '22495': 359,\n",
       " '84882': 360,\n",
       " '22982': 361,\n",
       " '22479': 362,\n",
       " '84375': 363,\n",
       " '22500': 364,\n",
       " 'M': 365,\n",
       " '84992': 366,\n",
       " '22477': 367,\n",
       " '22943': 368,\n",
       " '22637': 369,\n",
       " '22569': 370,\n",
       " '22773': 371,\n",
       " '21533': 372,\n",
       " '22483': 373,\n",
       " '22097': 374,\n",
       " '35810A': 375,\n",
       " '21928': 376,\n",
       " '22079': 377,\n",
       " '84949': 378,\n",
       " '72800C': 379,\n",
       " '20832': 380,\n",
       " '23174': 381,\n",
       " '23170': 382,\n",
       " '21447': 383,\n",
       " '22917': 384,\n",
       " '20831': 385,\n",
       " '23165': 386,\n",
       " '21217': 387,\n",
       " '22921': 388,\n",
       " '21207': 389,\n",
       " '23172': 390,\n",
       " '85129B': 391,\n",
       " '21792': 392,\n",
       " '22968': 393,\n",
       " '23322': 394,\n",
       " '23110': 395,\n",
       " '22224': 396,\n",
       " '47504H': 397,\n",
       " '85054': 398,\n",
       " '23084': 399,\n",
       " '85127': 400,\n",
       " '22241': 401,\n",
       " '22934': 402,\n",
       " '22698': 403,\n",
       " '85032B': 404,\n",
       " '17091J': 405,\n",
       " '22817': 406,\n",
       " '20711': 407,\n",
       " '47590B': 408,\n",
       " '84012': 409,\n",
       " '22147': 410,\n",
       " '22148': 411,\n",
       " '21982': 412,\n",
       " '22614': 413,\n",
       " '22664': 414,\n",
       " '22355': 415,\n",
       " '21934': 416,\n",
       " '22757': 417,\n",
       " '22029': 418,\n",
       " '22149': 419,\n",
       " '21967': 420,\n",
       " '22983': 421,\n",
       " '85180A': 422,\n",
       " '21882': 423,\n",
       " '23307': 424,\n",
       " '84050': 425,\n",
       " '22274': 426,\n",
       " '22609': 427,\n",
       " '22030': 428,\n",
       " '23068': 429,\n",
       " '22120': 430,\n",
       " '22621': 431,\n",
       " '22617': 432,\n",
       " '22380': 433,\n",
       " '22899': 434,\n",
       " '21935': 435,\n",
       " '22169': 436,\n",
       " '21985': 437,\n",
       " '20723': 438,\n",
       " '47591D': 439,\n",
       " '22328': 440,\n",
       " '22663': 441,\n",
       " '22498': 442,\n",
       " '21975': 443,\n",
       " '85099F': 444,\n",
       " '17038': 445,\n",
       " '21380': 446,\n",
       " '21931': 447,\n",
       " '22668': 448,\n",
       " '21914': 449,\n",
       " '21508': 450,\n",
       " '22131': 451,\n",
       " '35971': 452,\n",
       " '21879': 453,\n",
       " '22138': 454,\n",
       " '21354': 455,\n",
       " '23067': 456,\n",
       " '21518': 457,\n",
       " '22661': 458,\n",
       " '22714': 459,\n",
       " '47590A': 460,\n",
       " '22329': 461,\n",
       " '47503A': 462,\n",
       " '23338': 463,\n",
       " '22398': 464,\n",
       " '22507': 465,\n",
       " '23186': 466,\n",
       " '23335': 467,\n",
       " '22665': 468,\n",
       " '47563A': 469,\n",
       " '84706F': 470,\n",
       " '23469': 471,\n",
       " '84596B': 472,\n",
       " '18098C': 473,\n",
       " '84429A': 474,\n",
       " '23034': 475,\n",
       " '23156': 476,\n",
       " '22096': 477,\n",
       " '22766': 478,\n",
       " '23404': 479,\n",
       " '23691': 480,\n",
       " '22990': 481,\n",
       " '22930': 482,\n",
       " '23243': 483,\n",
       " '22675': 484,\n",
       " '23147': 485,\n",
       " '23337': 486,\n",
       " '23159': 487,\n",
       " '84818': 488,\n",
       " '22771': 489,\n",
       " '22775': 490,\n",
       " '84596G': 491,\n",
       " '22721': 492,\n",
       " '21907': 493,\n",
       " '22173': 494,\n",
       " '23035': 495,\n",
       " '23154': 496,\n",
       " '22978': 497,\n",
       " '20713': 498,\n",
       " '22170': 499,\n",
       " '20668': 500,\n",
       " '22059': 501,\n",
       " '23120': 502,\n",
       " '22671': 503,\n",
       " '21137': 504,\n",
       " '21932': 505,\n",
       " '21933': 506,\n",
       " '22966': 507,\n",
       " '22417': 508,\n",
       " '22931': 509,\n",
       " '84692': 510,\n",
       " '21787': 511,\n",
       " '22710': 512,\n",
       " '85064': 513,\n",
       " '47503H': 514,\n",
       " '21306': 515,\n",
       " '22396': 516,\n",
       " '22794': 517,\n",
       " '22964': 518,\n",
       " '23424': 519,\n",
       " '79321': 520,\n",
       " '23414': 521,\n",
       " '23297': 522,\n",
       " '22763': 523,\n",
       " '22900': 524,\n",
       " '22965': 525,\n",
       " '23138': 526,\n",
       " '22181': 527,\n",
       " '22985': 528,\n",
       " '22588': 529,\n",
       " '22585': 530,\n",
       " '23309': 531,\n",
       " '23025': 532,\n",
       " '20914': 533,\n",
       " '22631': 534,\n",
       " '22772': 535,\n",
       " '23130': 536,\n",
       " '23406': 537,\n",
       " '22197': 538,\n",
       " '22666': 539,\n",
       " '23294': 540,\n",
       " '84596F': 541,\n",
       " '22505': 542,\n",
       " '23295': 543,\n",
       " '22938': 544,\n",
       " '22556': 545,\n",
       " '21154': 546,\n",
       " '23026': 547,\n",
       " '23140': 548,\n",
       " '21311': 549,\n",
       " '23293': 550,\n",
       " '23096': 551,\n",
       " '21577': 552,\n",
       " '23346': 553,\n",
       " '22750': 554,\n",
       " '23251': 555,\n",
       " '23523': 556,\n",
       " '22629': 557,\n",
       " '22073': 558,\n",
       " '23204': 559,\n",
       " '22075': 560,\n",
       " '22374': 561,\n",
       " '85038': 562,\n",
       " '22940': 563,\n",
       " '22691': 564,\n",
       " '22946': 565,\n",
       " '23239': 566,\n",
       " '23013': 567,\n",
       " '23552': 568,\n",
       " '23514': 569,\n",
       " '23236': 570,\n",
       " '23292': 571,\n",
       " '22086': 572,\n",
       " '23182': 573,\n",
       " '23517': 574,\n",
       " '23032': 575,\n",
       " '21877': 576,\n",
       " '23108': 577,\n",
       " '23112': 578,\n",
       " '23291': 579,\n",
       " '23014': 580,\n",
       " '23326': 581,\n",
       " '23031': 582,\n",
       " '23207': 583,\n",
       " '23531': 584,\n",
       " '21527': 585,\n",
       " '21172': 586,\n",
       " '23028': 587,\n",
       " '23283': 588,\n",
       " '20846': 589,\n",
       " '23240': 590,\n",
       " '23382': 591,\n",
       " '23562': 592,\n",
       " '22835': 593,\n",
       " '22271': 594,\n",
       " '22087': 595,\n",
       " '84796B': 596,\n",
       " '21871': 597,\n",
       " '23576': 598,\n",
       " '23389': 599,\n",
       " '21658': 600,\n",
       " '23598': 601,\n",
       " '84945': 602,\n",
       " '23252': 603,\n",
       " '23086': 604,\n",
       " '22989': 605,\n",
       " '23126': 606,\n",
       " '22913': 607,\n",
       " '22729': 608,\n",
       " '22841': 609,\n",
       " '22801': 610,\n",
       " '22326': 611,\n",
       " '48187': 612,\n",
       " '22596': 613,\n",
       " '22704': 614,\n",
       " '23021': 615,\n",
       " '23583': 616,\n",
       " '23169': 617,\n",
       " '23233': 618,\n",
       " '21481': 619,\n",
       " '23250': 620,\n",
       " '22692': 621,\n",
       " '22730': 622,\n",
       " '22273': 623,\n",
       " '23244': 624,\n",
       " '22944': 625,\n",
       " '23311': 626,\n",
       " '23534': 627,\n",
       " '23083': 628,\n",
       " '23290': 629,\n",
       " '22089': 630,\n",
       " '23530': 631,\n",
       " '22840': 632,\n",
       " '23245': 633,\n",
       " '22914': 634,\n",
       " '23289': 635,\n",
       " '22186': 636,\n",
       " '22959': 637,\n",
       " '20726': 638,\n",
       " '23196': 639,\n",
       " '23516': 640,\n",
       " '23580': 641,\n",
       " '23029': 642,\n",
       " '23201': 643,\n",
       " '22972': 644,\n",
       " '23681': 645,\n",
       " '22941': 646,\n",
       " '22711': 647,\n",
       " '23581': 648,\n",
       " '22734': 649,\n",
       " '21539': 650,\n",
       " '22088': 651,\n",
       " '23208': 652,\n",
       " '23356': 653,\n",
       " '84792': 654,\n",
       " '22084': 655,\n",
       " '23232': 656,\n",
       " '16169E': 657,\n",
       " '22842': 658,\n",
       " '23535': 659,\n",
       " '22090': 660,\n",
       " '23308': 661,\n",
       " '21696': 662,\n",
       " '23205': 663,\n",
       " '23012': 664,\n",
       " '22540': 665,\n",
       " '23526': 666,\n",
       " '22979': 667,\n",
       " '21326': 668,\n",
       " '22792': 669,\n",
       " '20754': 670,\n",
       " '22343': 671,\n",
       " '22074': 672,\n",
       " '22894': 673,\n",
       " '85183B': 674,\n",
       " '82613D': 675,\n",
       " '22377': 676,\n",
       " '22222': 677,\n",
       " '22354': 678,\n",
       " '85184C': 679,\n",
       " '48129': 680,\n",
       " '35646': 681,\n",
       " '22473': 682,\n",
       " '22834': 683,\n",
       " '22782': 684,\n",
       " '47351B': 685,\n",
       " '85212': 686,\n",
       " '22511': 687,\n",
       " '20702': 688,\n",
       " '23401': 689,\n",
       " '22973': 690,\n",
       " '21124': 691,\n",
       " '21868': 692,\n",
       " '23415': 693,\n",
       " '23570': 694,\n",
       " '22627': 695,\n",
       " '21313': 696,\n",
       " '21199': 697,\n",
       " '85049C': 698,\n",
       " '23439': 699,\n",
       " '21031': 700,\n",
       " '20973': 701,\n",
       " '23405': 702,\n",
       " '22045': 703,\n",
       " '23237': 704,\n",
       " '21705': 705,\n",
       " '23498': 706,\n",
       " '21688': 707,\n",
       " '16219': 708,\n",
       " '85049D': 709,\n",
       " '23560': 710,\n",
       " '22077': 711,\n",
       " '23101': 712,\n",
       " '21640': 713,\n",
       " '22301': 714,\n",
       " '23402': 715,\n",
       " '23416': 716,\n",
       " '21224': 717,\n",
       " '22646': 718,\n",
       " '22425': 719,\n",
       " '22589': 720,\n",
       " '22831': 721,\n",
       " '22568': 722,\n",
       " '22402': 723,\n",
       " '22562': 724,\n",
       " '23522': 725,\n",
       " '22610': 726,\n",
       " '22040': 727,\n",
       " '23077': 728,\n",
       " '37495': 729,\n",
       " '21878': 730,\n",
       " '22076': 731,\n",
       " '21676': 732,\n",
       " '22822': 733,\n",
       " '21680': 734,\n",
       " '23065': 735,\n",
       " '85049E': 736,\n",
       " '84819': 737,\n",
       " '17129F': 738,\n",
       " '23561': 739,\n",
       " '47566B': 740,\n",
       " '21713': 741,\n",
       " '23500': 742,\n",
       " '23400': 743,\n",
       " '23288': 744,\n",
       " '22981': 745,\n",
       " '85049H': 746,\n",
       " '23521': 747,\n",
       " '22560': 748,\n",
       " '22434': 749,\n",
       " '21257': 750,\n",
       " '21219': 751,\n",
       " '21829': 752,\n",
       " '23459': 753,\n",
       " '22408': 754,\n",
       " '23163': 755,\n",
       " '85049A': 756,\n",
       " '21675': 757,\n",
       " '22951': 758,\n",
       " '23360': 759,\n",
       " '22395': 760,\n",
       " '21426': 761,\n",
       " '23425': 762,\n",
       " '22491': 763,\n",
       " '22116': 764,\n",
       " '22180': 765,\n",
       " '23129': 766,\n",
       " '23287': 767,\n",
       " '21695': 768,\n",
       " '23100': 769,\n",
       " '21679': 770,\n",
       " '23370': 771,\n",
       " '20977': 772,\n",
       " '23660': 773,\n",
       " '23661': 774,\n",
       " '22849': 775,\n",
       " '22974': 776,\n",
       " '47310M': 777,\n",
       " '20983': 778,\n",
       " '22175': 779,\n",
       " '23274': 780,\n",
       " '82580': 781,\n",
       " '22991': 782,\n",
       " '23497': 783,\n",
       " '22749': 784,\n",
       " '22440': 785,\n",
       " '21427': 786,\n",
       " '21677': 787,\n",
       " '22436': 788,\n",
       " '22439': 789,\n",
       " '21912': 790,\n",
       " '85049F': 791,\n",
       " '22406': 792,\n",
       " '22650': 793,\n",
       " '22570': 794,\n",
       " '21123': 795,\n",
       " '85053': 796,\n",
       " '21724': 797,\n",
       " '21407': 798,\n",
       " '22733': 799,\n",
       " '23080': 800,\n",
       " '82581': 801,\n",
       " '22315': 802,\n",
       " '20757': 803,\n",
       " '21714': 804,\n",
       " '22394': 805,\n",
       " '22563': 806,\n",
       " '21972': 807,\n",
       " '23273': 808,\n",
       " '22489': 809,\n",
       " '21116': 810,\n",
       " '21025': 811,\n",
       " '22928': 812,\n",
       " '23265': 813,\n",
       " '21174': 814,\n",
       " '84799': 815,\n",
       " '21136': 816,\n",
       " '21324': 817,\n",
       " '21905': 818,\n",
       " '82583': 819,\n",
       " '22673': 820,\n",
       " '21904': 821,\n",
       " '82578': 822,\n",
       " '85152': 823,\n",
       " '22578': 824,\n",
       " '85186A': 825,\n",
       " '22696': 826,\n",
       " '21171': 827,\n",
       " '71038': 828,\n",
       " '22189': 829,\n",
       " '23329': 830,\n",
       " '21876': 831,\n",
       " '22855': 832,\n",
       " '82552': 833,\n",
       " '22925': 834,\n",
       " '22292': 835,\n",
       " '47013C': 836,\n",
       " '35471D': 837,\n",
       " '84800M': 838,\n",
       " '85132B': 839,\n",
       " '84800S': 840,\n",
       " '22469': 841,\n",
       " '21903': 842,\n",
       " '35972': 843,\n",
       " '22863': 844,\n",
       " '20717': 845,\n",
       " '22230': 846,\n",
       " '23333': 847,\n",
       " '21181': 848,\n",
       " '21166': 849,\n",
       " '72741': 850,\n",
       " '22829': 851,\n",
       " '22291': 852,\n",
       " '21875': 853,\n",
       " '23328': 854,\n",
       " '23242': 855,\n",
       " '22295': 856,\n",
       " '84673B': 857,\n",
       " '22926': 858,\n",
       " '21068': 859,\n",
       " '22266': 860,\n",
       " '84800L': 861,\n",
       " '16016': 862,\n",
       " '22252': 863,\n",
       " '22789': 864,\n",
       " '23426': 865,\n",
       " '21135': 866,\n",
       " '21340': 867,\n",
       " '21454': 868,\n",
       " '84352': 869,\n",
       " '47013A': 870,\n",
       " '23412': 871,\n",
       " '23155': 872,\n",
       " '22607': 873,\n",
       " '84763': 874,\n",
       " '22115': 875,\n",
       " '21892': 876,\n",
       " '23263': 877,\n",
       " '16054': 878,\n",
       " '23321': 879,\n",
       " '47480': 880,\n",
       " '22294': 881,\n",
       " '21165': 882,\n",
       " '85130A': 883,\n",
       " '21908': 884,\n",
       " '23091': 885,\n",
       " '77101A': 886,\n",
       " '84929': 887,\n",
       " '22832': 888,\n",
       " '22854': 889,\n",
       " '22948': 890,\n",
       " '22460': 891,\n",
       " '22620': 892,\n",
       " '22281': 893,\n",
       " '22284': 894,\n",
       " '21355': 895,\n",
       " '21169': 896,\n",
       " '22269': 897,\n",
       " '21385': 898,\n",
       " '22285': 899,\n",
       " '23399': 900,\n",
       " '21872': 901,\n",
       " '22647': 902,\n",
       " '22895': 903,\n",
       " '22110': 904,\n",
       " '22866': 905,\n",
       " '21497': 906,\n",
       " '22970': 907,\n",
       " '22799': 908,\n",
       " '23090': 909,\n",
       " '23353': 910,\n",
       " '22595': 911,\n",
       " '85048': 912,\n",
       " '23119': 913,\n",
       " '22971': 914,\n",
       " '22988': 915,\n",
       " '23354': 916,\n",
       " '84029G': 917,\n",
       " '23198': 918,\n",
       " '23102': 919,\n",
       " '85179C': 920,\n",
       " '21922': 921,\n",
       " '22348': 922,\n",
       " '21485': 923,\n",
       " '21936': 924,\n",
       " '22937': 925,\n",
       " '22435': 926,\n",
       " '22632': 927,\n",
       " '22984': 928,\n",
       " '22713': 929,\n",
       " '16225': 930,\n",
       " '23351': 931,\n",
       " '20984': 932,\n",
       " '20676': 933,\n",
       " '22219': 934,\n",
       " '23313': 935,\n",
       " '22999': 936,\n",
       " '20712': 937,\n",
       " '20781': 938,\n",
       " '21672': 939,\n",
       " '22345': 940,\n",
       " '84596E': 941,\n",
       " '85206A': 942,\n",
       " '84987': 943,\n",
       " '82486': 944,\n",
       " '22670': 945,\n",
       " '21430': 946,\n",
       " '21245': 947,\n",
       " '21673': 948,\n",
       " '84985A': 949,\n",
       " '22085': 950,\n",
       " '85136A': 951,\n",
       " '21793': 952,\n",
       " '46000M': 953,\n",
       " '21670': 954,\n",
       " '20762': 955,\n",
       " '22357': 956,\n",
       " '21429': 957,\n",
       " '21564': 958,\n",
       " '22366': 959,\n",
       " '22679': 960,\n",
       " '21382': 961,\n",
       " '21094': 962,\n",
       " '21717': 963,\n",
       " '85132C': 964,\n",
       " '21033': 965,\n",
       " '21374': 966,\n",
       " '22243': 967,\n",
       " '22141': 968,\n",
       " '22442': 969,\n",
       " '22703': 970,\n",
       " '22316': 971,\n",
       " '21668': 972,\n",
       " '21054': 973,\n",
       " '15058A': 974,\n",
       " '22674': 975,\n",
       " '22672': 976,\n",
       " '22683': 977,\n",
       " '22686': 978,\n",
       " '22890': 979,\n",
       " '21557': 980,\n",
       " '22365': 981,\n",
       " '22068': 982,\n",
       " '23411': 983,\n",
       " '22065': 984,\n",
       " '22344': 985,\n",
       " '21988': 986,\n",
       " '21240': 987,\n",
       " '15056P': 988,\n",
       " '22994': 989,\n",
       " '20839': 990,\n",
       " '15056N': 991,\n",
       " '21445': 992,\n",
       " '23006': 993,\n",
       " '21671': 994,\n",
       " '22669': 995,\n",
       " '23122': 996,\n",
       " '21210': 997,\n",
       " '20679': 998,\n",
       " '21973': 999,\n",
       " ...}"
      ]
     },
     "execution_count": 173,
     "metadata": {},
     "output_type": "execute_result"
    }
   ],
   "source": [
    "id_product_dic"
   ]
  },
  {
   "cell_type": "markdown",
   "metadata": {},
   "source": [
    "## one-hot encoding"
   ]
  },
  {
   "cell_type": "code",
   "execution_count": 174,
   "metadata": {},
   "outputs": [],
   "source": [
    "id_user_dic={}\n",
    "user_product_vec_li=[]\n",
    "all_product_count = len(id_product_dic)"
   ]
  },
  {
   "cell_type": "code",
   "execution_count": 175,
   "metadata": {},
   "outputs": [],
   "source": [
    "for user_code, product_per_user_set in user_product_dic.items():\n",
    "    user_product_vec = [0]*all_product_count\n",
    "    ## len(id_user_dic)==> index 생성 코드\n",
    "    id_user_dic[len(id_user_dic)] = user_code\n",
    "    \n",
    "    for product_name in product_per_user_set:\n",
    "        user_product_vec[id_product_dic[product_name]]=1\n",
    "        \n",
    "    user_product_vec_li.append(user_product_vec)\n",
    "        \n",
    "    "
   ]
  },
  {
   "cell_type": "code",
   "execution_count": 176,
   "metadata": {},
   "outputs": [
    {
     "data": {
      "text/plain": [
       "'0 0 0 0 0 0 0 0 0 0 0 0 0 0 0 0 0 0 0 0 0 0 0 0 0 0 0 0 0 0 0 0 0 0 0 0 0 0 0 0 0 0 0 0 0 0 0 0 0 0 0 0 0 0 0 0 0 0 0 0 0 0 0 0 0 0 0 0 0 0 0 0 0 0 0 0 0 0 0 0 0 0 0 0 0 0 0 0 0 0 0 0 0 0 0 0 0 0 0 0 0 0 0 0 0 0 0 0 0 0 0 0 1 1 1 1 1 1 1 1 1 1 1 1 1 1 0 0 0 0 0 0 0 0 0 0 0 0 0 0 0 0 0 0 0 0 0 0 0 0 0 0 0 0 0 0 0 0 0 0 0 0 0 0 0 0 0 0 0 0 0 0 0 0 0 0 0 0 0 0 0 0 0 0 0 0 0 0 0 0 0 0 0 0 0 0 0 0 0 0 0 0 0 0 0 0 0 0 0 0 0 0 0 0 0 0 0 0 0 0 0 0 0 0 0 0 0 0 0 0 0 0 0 0 0 0 0 0 0 0 0 0 0 0 0 0 0 0 0 0 0 0 0 0 0 0 0 0 0 0 0 0 0 0 0 0 0 0 0 0 0 0 0 0 0 0 0 0 0 0 0 0 0 0 0 0 0 0 0 0 0 0 0 0 0 0 0 0 0 0 0 0 0 0 0 0 0 0 0 0 0 0 0 0 0 0 0 0 0 0 0 0 0 0 0 0 0 0 0 0 0 0 0 0 0 0 0 0 0 0 0 0 0 0 0 0 0 0 0 0 0 0 0 0 0 0 0 0 0 0 0 0 0 0 0 0 0 0 0 0 0 0 0 0 0 0 0 0 0 0 0 0 0 0 0 0 0 0 0 0 0 0 0 0 0 0 0 0 0 0 0 0 0 0 0 0 0 0 0 0 0 0 0 0 0 0 0 0 0 0 0 0 0 0 0 0 0 0 0 0 0 0 0 0 0 0 0 0 0 0 0 0 0 0 0 0 0 0 0 0 0 0 0 0 0 0 0 0 0 0 0 0 0 0 0 0 0 0 0 0 0 0 0 0 0 0 0 0 0 0 0 0 0 0 0 0 0 0 0 0 0 0 0 0 0 0 0 0 0 0 0 0 0 0 0 0 0 0 0 0 0 0 0 0 0 0 0 0 0 0 0 0 0 0 0 0 0 0 0 0 0 0 0 0 0 0 0 0 0 0 0 0 0 0 0 0 0 0 0 0 0 0 0 0 0 0 0 0 0 0 0 0 0 0 0 0 0 0 0 0 0 0 0 0 0 0 0 0 0 0 0 0 0 0 0 0 0 0 0 0 0 0 0 0 0 0 0 0 0 0 0 0 0 0 0 0 0 0 0 0 0 0 0 0 0 0 0 0 0 0 0 0 0 0 0 0 0 0 0 0 0 0 0 0 0 0 0 0 0 0 0 0 0 0 0 0 0 0 0 0 0 0 0 0 0 0 0 0 0 0 0 0 0 0 0 0 0 0 0 0 0 0 0 0 0 0 0 0 0 0 0 0 0 0 0 0 0 0 0 0 0 0 0 0 0 0 0 0 0 0 0 0 0 0 0 0 0 0 0 0 0 0 0 0 0 0 0 0 0 0 0 0 0 0 0 0 0 0 0 0 0 0 0 0 0 0 0 0 0 0 0 0 0 0 0 0 0 0 0 0 0 0 0 0 0 0 0 0 0 0 0 0 0 0 0 0 0 0 0 0 0 0 0 0 0 0 0 0 0 0 0 0 0 0 0 0 0 0 0 0 0 0 0 0 0 0 0 0 0 0 0 0 0 0 0 0 0 0 0 0 0 0 0 0 0 0 0 0 0 0 0 0 0 0 0 0 0 0 0 0 0 0 0 0 0 0 0 0 0 0 0 0 0 0 0 0 0 0 0 0 0 0 0 0 0 0 0 0 0 0 0 0 0 0 0 0 0 0 0 0 0 0 0 0 0 0 0 0 0 0 0 0 0 0 0 0 0 0 0 0 0 0 0 0 0 0 0 0 0 0 0 0 0 0 0 0 0 0 0 0 0 0 0 0 0 0 0 0 0 0 0 0 0 0 0 0 0 0 0 0 0 0 0 0 0 0 0 0 0 0 0 0 0 0 0 0 0 0 0 0 0 0 0 0 0 0 0 0 0 0 0 0 0 0 0 0 0 0 0 0 0 0 0 0 0 0 0 0 0 0 0 0 0 0 0 0 0 0 0 0 0 0 0 0 0 0 0 0 0 0 0 0 0 0 0 0 0 0 0 0 0 0 0 0 0 0 0 0 0 0 0 0 0 0 0 0 0 0 0 0 0 0 0 0 0 0 0 0 0 0 0 0 0 0 0 0 0 0 0 0 0 0 0 0 0 0 0 0 0 0 0 0 0 0 0 0 0 0 0 0 0 0 0 0 0 0 0 0 0 0 0 0 0 0 0 0 0 0 0 0 0 0 0 0 0 0 0 0 0 0 0 0 0 0 0 0 0 0 0 0 0 0 0 0 0 0 0 0 0 0 0 0 0 0 0 0 0 0 0 0 0 0 0 0 0 0 0 0 0 0 0 0 0 0 0 0 0 0 0 0 0 0 0 0 0 0 0 0 0 0 0 0 0 0 0 0 0 0 0 0 0 0 0 0 0 0 0 0 0 0 0 0 0 0 0 0 0 0 0 0 0 0 0 0 0 0 0 0 0 0 0 0 0 0 0 0 0 0 0 0 0 0 0 0 0 0 0 0 0 0 0 0 0 0 0 0 0 0 0 0 0 0 0 0 0 0 0 0 0 0 0 0 0 0 0 0 0 0 0 0 0 0 0 0 0 0 0 0 0 0 0 0 0 0 0 0 0 0 0 0 0 0 0 0 0 0 0 0 0 0 0 0 0 0 0 0 0 0 0 0 0 0 0 0 0 0 0 0 0 0 0 0 0 0 0 0 0 0 0 0 0 0 0 0 0 0 0 0 0 0 0 0 0 0 0 0 0 0 0 0 0 0 0 0 0 0 0 0 0 0 0 0 0 0 0 0 0 0 0 0 0 0 0 0 0 0 0 0 0 0 0 0 0 0 0 0 0 0 0 0 0 0 0 0 0 0 0 0 0 0 0 0 0 0 0 0 0 0 0 0 0 0 0 0 0 0 0 0 0 0 0 0 0 0 0 0 0 0 0 0 0 0 0 0 0 0 0 0 0 0 0 0 0 0 0 0 0 0 0 0 0 0 0 0 0 0 0 0 0 0 0 0 0 0 0 0 0 0 0 0 0 0 0 0 0 0 0 0 0 0 0 0 0 0 0 0 0 0 0 0 0 0 0 0 0 0 0 0 0 0 0 0 0 0 0 0 0 0 0 0 0 0 0 0 0 0 0 0 0 0 0 0 0 0 0 0 0 0 0 0 0 0 0 0 0 0 0 0 0 0 0 0 0 0 0 0 0 0 0 0 0 0 0 0 0 0 0 0 0 0 0 0 0 0 0 0 0 0 0 0 0 0 0 0 0 0 0 0 0 0 0 0 0 0 0 0 0 0 0 0 0 0 0 0 0 0 0 0 0 0 0 0 0 0 0 0 0 0 0 0 0 0 0 0 0 0 0 0 0 0 0 0 0 0 0 0 0 0 0 0 0 0 0 0 0 0 0 0 0 0 0 0 0 0 0 0 0 0 0 0 0 0 0 0 0 0 0 0 0 0 0 0 0 0 0 0 0 0 0 0 0 0 0 0 0 0 0 0 0 0 0 0 0 0 0 0 0 0 0 0 0 0 0 0 0 0 0 0 0 0 0 0 0 0 0 0 0 0 0 0 0 0 0 0 0 0 0 0 0 0 0 0 0 0 0 0 0 0 0 0 0 0 0 0 0 0 0 0 0 0 0 0 0 0 0 0 0 0 0 0 0 0 0 0 0 0 0 0 0 0 0 0 0 0 0 0 0 0 0 0 0 0 0 0 0 0 0 0 0 0 0 0 0 0 0 0 0 0 0 0 0 0 0 0 0 0 0 0 0 0 0 0 0 0 0 0 0 0 0 0 0 0 0 0 0 0 0 0 0 0 0 0 0 0 0 0 0 0 0 0 0 0 0 0 0 0 0 0 0 0 0 0 0 0 0 0 0 0 0 0 0 0 0 0 0 0 0 0 0 0 0 0 0 0 0 0 0 0 0 0 0 0 0 0 0 0 0 0 0 0 0 0 0 0 0 0 0 0 0 0 0 0 0 0 0 0 0 0 0 0 0 0 0 0 0 0 0 0 0 0 0 0 0 0 0 0 0 0 0 0 0 0 0 0 0 0 0 0 0 0 0 0 0 0 0 0 0 0 0 0 0 0 0 0 0 0 0 0 0 0 0 0 0 0 0 0 0 0 0 0 0 0 0 0 0 0 0 0 0 0 0 0 0 0 0 0 0 0 0 0 0 0 0 0 0 0 0 0 0 0 0 0 0 0 0 0 0 0 0 0 0 0 0 0 0 0 0 0 0 0 0 0 0 0 0 0 0 0 0 0 0 0 0 0 0 0 0 0 0 0 0 0 0 0 0 0 0 0 0 0 0 0 0 0 0 0 0 0 0 0 0 0 0 0 0 0 0 0 0 0 0 0 0 0 0 0 0 0 0 0 0 0 0 0 0 0 0 0 0 0 0 0 0 0 0 0 0 0 0 0 0 0 0 0 0 0 0 0 0 0 0 0 0 0 0 0 0 0 0 0 0 0 0 0 0 0 0 0 0 0 0 0 0 0 0 0 0 0 0 0 0 0 0 0 0 0 0 0 0 0 0 0 0 0 0 0 0 0 0 0 0 0 0 0 0 0 0 0 0 0 0 0 0 0 0 0 0 0 0 0 0 0 0 0 0 0 0 0 0 0 0 0 0 0 0 0 0 0 0 0 0 0 0 0 0 0 0 0 0 0 0 0 0 0 0 0 0 0 0 0 0 0 0 0 0 0 0 0 0 0 0 0 0 0 0 0 0 0 0 0 0 0 0 0 0 0 0 0 0 0 0 0 0 0 0 0 0 0 0 0 0 0 0 0 0 0 0 0 0 0 0 0 0 0 0 0 0 0 0 0 0 0 0 0 0 0 0 0 0 0 0 0 0 0 0 0 0 0 0 0 0 0 0 0 0 0 0 0 0 0 0 0 0 0 0 0 0 0 0 0 0 0 0 0 0 0 0 0 0 0 0 0 0 0 0 0 0 0 0 0 0 0 0 0 0 0 0 0 0 0 0 0 0 0 0 0 0 0 0 0 0 0 0 0 0 0 0 0 0 0 0 0 0 0 0 0 0 0 0 0 0 0 0 0 0 0 0 0 0 0 0 0 0 0 0 0 0 0 0 0 0 0 0 0 0 0 0 0 0 0 0 0 0 0 0 0 0 0 0 0 0 0 0 0 0 0 0 0 0 0 0 0 0 0 0 0 0 0 0 0 0 0 0 0 0 0 0 0 0 0 0 0 0 0 0 0 0 0 0 0 0 0 0 0 0 0 0 0 0 0 0 0 0 0 0 0 0 0 0 0 0 0 0 0 0 0 0 0 0 0 0 0 0 0 0 0 0 0 0 0 0 0 0 0 0 0 0 0 0 0 0 0 0 0 0 0 0 0 0 0 0 0 0 0 0 0 0 0 0 0 0 0 0 0 0 0 0 0 0 0 0 0 0 0 0 0 0 0 0 0 0 0 0 0 0 0 0 0 0 0 0 0 0 0 0 0 0 0 0 0 0 0 0 0 0 0 0 0 0 0 0 0 0 0 0 0 0 0 0 0 0 0 0 0 0 0 0 0 0 0 0 0 0 0 0 0 0 0 0 0 0 0 0 0 0 0 0 0 0 0 0 0 0 0 0 0 0 0 0 0 0 0 0 0 0 0 0 0 0 0 0 0 0 0 0 0 0 0 0 0 0 0 0 0 0 0 0 0 0 0 0 0 0 0 0 0 0 0 0 0 0 0 0 0 0 0 0 0 0 0 0 0 0 0 0 0 0 0 0 0 0 0 0 0 0 0 0 0 0 0 0 0 0 0 0 0 0 0 0 0 0 0 0 0 0 0 0 0 0 0 0 0 0 0 0 0 0 0 0 0 0 0 0 0 0 0 0 0 0 0 0 0 0 0 0 0 0 0 0 0 0 0 0 0 0 0 0 0 0 0 0 0 0 0 0 0 0 0 0 0 0 0 0 0 0 0 0 0 0 0 0 0 0 0 0 0 0 0 0 0 0 0 0 0 0 0 0 0 0 0 0 0 0 0 0 0 0 0 0 0 0 0 0 0 0 0 0 0 0 0 0 0 0 0 0 0 0 0 0 0 0 0 0 0 0 0 0 0 0 0 0 0 0 0 0 0 0 0 0 0 0 0 0 0 0 0 0 0 0 0 0 0 0 0 0 0 0 0 0 0 0 0 0 0 0 0 0 0 0 0 0 0 0 0 0 0 0 0 0 0 0 0 0 0 0 0 0 0 0 0 0 0 0 0 0 0 0 0 0 0 0 0 0 0 0 0 0 0 0 0 0 0 0 0 0 0 0 0 0 0 0 0 0 0 0 0 0 0 0 0 0 0 0 0 0 0 0 0 0 0 0 0 0 0 0 0 0 0 0 0 0 0 0 0 0 0 0 0 0 0 0 0 0 0 0 0 0 0 0 0 0 0 0 0 0 0 0 0 0 0 0 0 0 0 0 0 0 0 0 0 0 0 0 0 0 0 0 0 0 0 0 0 0 0 0 0 0 0 0 0 0 0 0 0 0 0 0 0 0 0 0 0 0 0 0 0 0 0 0 0 0 0 0 0 0 0 0 0 0 0 0 0 0 0 0 0 0 0 0 0 0 0 0 0 0 0 0 0 0 0 0 0 0 0 0 0 0 0 0 0 0 0 0 0 0 0 0 0 0 0 0 0 0 0 0 0 0 0 0 0 0 0 0 0 0 0 0 0 0 0 0 0 0 0 0 0 0 0 0 0 0 0 0 0 0 0 0 0 0 0 0 0 0 0 0 0 0 0 0 0 0 0 0 0 0 0 0 0 0 0 0 0 0 0 0 0 0 0 0 0 0 0 0 0 0 0 0 0 0 0 0 0 0 0 0 0 0 0 0 0 0 0 0 0 0 0 0 0 0 0 0 0 0 0 0 0 0 0 0 0 0 0 0 0 0 0 0 0 0 0 0 0 0 0 0 0 0 0 0 0 0 0 0 0 0 0 0 0 0 0 0 0 0 0 0 0 0 0 0 0 0 0 0 0 0 0 0 0 0 0 0 0 0 0 0 0 0 0 0 0 0 0 0 0 0 0 0 0 0 0 0 0 0 0 0 0 0 0 0 0 0 0 0 0 0 0 0 0 0 0 0 0 0 0 0 0 0 0 0 0 0 0 0 0 0 0 0 0 0 0 0 0 0 0 0 0 0 0 0 0 0 0 0 0 0 0 0 0 0 0 0 0 0 0 0 0 0 0 0 0 0 0 0 0 0 0 0 0 0 0 0 0 0 0 0 0 0 0 0 0 0 0 0 0 0 0 0 0 0 0 0 0 0 0 0 0 0 0 0 0 0 0 0 0 0 0 0 0 0 0 0 0 0 0 0 0 0 0 0 0 0 0 0 0 0 0 0 0 0 0 0 0 0 0 0 0 0 0 0 0 0 0 0 0 0 0 0 0 0 0 0 0 0 0 0 0 0 0 0 0 0 0 0 0 0 0 0 0 0 0 0 0 0 0 0 0 0 0 0 0 0 0 0 0 0 0 0 0 0 0 0 0 0 0 0 0 0 0 0 0 0 0 0 0 0 0 0 0 0 0 0 0 0 0 0 0 0 0 0 0 0 0 0 0 0 0 0 0 0 0 0 0 0 0 0 0 0 0 0 0 0 0 0 0 0 0 0 0 0 0 0 0 0 0 0 0 0 0 0 0 0 0 0 0 0 0 0 0 0 0 0 0 0 0'"
      ]
     },
     "execution_count": 176,
     "metadata": {},
     "output_type": "execute_result"
    }
   ],
   "source": [
    "\" \".join(str(x) for x in user_product_vec_li[2])"
   ]
  },
  {
   "cell_type": "markdown",
   "metadata": {},
   "source": [
    "## K-Mean Clustering"
   ]
  },
  {
   "cell_type": "markdown",
   "metadata": {},
   "source": [
    "```python\n",
    "sklearn.cluster.KMeans(n_clusters=8, init='k-means++', n_init=10, max_iter=300, tol=0.0001, precompute_distances='auto', verbose=0, random_state=None, copy_x=True, n_jobs=1, algorithm='auto')\n",
    "```\n",
    "\n",
    "- n_cluster: 클러스터 수\n",
    "- n_init: 클러스터 중심 초기화 횟수, 10이면 10회 반복 학습\n",
    "- init: \n",
    "    - k-means++: 수렴을 빠르게 하기 위한 제안, 떨어진 중심점\n",
    "    - random\n",
    "    - ndarray\n",
    "- tol: 조기 종료\n",
    "    - 예전 중심점과 현재 중심점이 tol보다 작으면 종료\n",
    "    - default: 0.00001\n",
    "- max_iter: 중심점 최대 업데이트"
   ]
  },
  {
   "cell_type": "markdown",
   "metadata": {},
   "source": [
    "- 참조 속성\n",
    "    - cluster_centers_: 중심축\n",
    "    - labels_\n",
    "    - inertia_: 샘플과 소속 클러스터의 중심 거리"
   ]
  },
  {
   "cell_type": "code",
   "execution_count": 178,
   "metadata": {},
   "outputs": [
    {
     "data": {
      "text/plain": [
       "'0 0 0 0 0 0 0 0 0 0 0 0 0 0 0 0 0 0 0 0 0 0 0 0 0 0 0 0 0 0 0 0 0 0 0 0 0 0 0 0 0 0 0 0 0 0 0 1 1 1 1 1 1 1 1 1 1 1 1 1 1 1 1 1 1 1 1 1 1 1 1 1 1 1 1 1 1 1 1 1 1 1 1 1 1 1 1 1 1 1 1 1 1 1 1 1 1 1 1 1 1 1 1 1 1 1 1 1 1 1 1 1 0 0 0 0 0 0 0 0 0 0 0 0 0 0 0 0 0 0 0 0 0 0 0 0 0 0 0 0 0 0 0 0 0 0 0 0 0 0 0 0 0 0 0 0 0 0 0 0 0 0 0 0 0 0 0 0 0 0 0 0 0 0 0 0 0 0 0 0 0 0 0 0 0 0 0 0 0 0 0 0 0 0 0 0 0 0 0 0 0 0 0 0 0 0 0 0 0 0 0 0 0 0 0 0 0 0 0 0 0 0 0 0 0 0 0 0 0 0 0 0 0 0 0 0 0 0 0 0 0 0 0 0 0 0 0 0 0 0 0 0 0 0 0 0 0 0 0 0 0 0 0 0 0 0 0 0 0 0 0 0 0 0 0 0 0 0 0 0 0 0 0 0 0 0 0 0 0 0 0 0 0 0 0 0 0 0 0 0 0 0 0 0 0 0 0 0 0 0 0 0 0 0 0 0 0 0 0 0 0 0 0 0 0 0 0 0 0 0 0 0 0 0 0 0 0 0 0 0 0 0 0 0 0 0 0 0 0 0 0 0 0 0 0 0 0 0 0 0 0 0 0 0 0 0 0 0 0 0 0 0 0 0 0 0 0 0 0 0 0 0 0 0 0 0 0 0 0 0 0 0 0 0 0 0 0 0 0 0 0 0 0 0 0 0 0 0 0 0 0 0 0 0 0 0 0 0 0 0 0 0 0 0 0 0 0 0 0 0 0 0 0 0 0 0 0 0 0 0 0 0 0 0 0 0 0 0 0 0 0 0 0 0 0 0 0 0 0 0 0 0 0 0 0 0 0 0 0 0 0 0 0 0 0 0 0 0 0 0 0 0 0 0 0 0 0 0 0 0 0 0 0 0 0 0 0 0 0 0 0 0 0 0 0 0 0 0 0 0 0 0 0 0 0 0 0 0 0 0 0 0 0 0 0 0 0 0 0 0 0 0 0 0 0 0 0 0 0 0 0 0 0 0 0 0 0 0 0 0 0 0 0 0 0 0 0 0 0 0 0 0 0 0 0 0 0 0 0 0 0 0 0 0 0 0 0 0 0 0 0 0 0 0 0 0 0 0 0 0 0 0 0 0 0 0 0 0 0 0 0 0 0 0 0 0 0 0 0 0 0 0 0 0 0 0 0 0 0 0 0 0 0 0 0 0 0 0 0 0 0 0 0 0 0 0 0 0 0 0 0 0 0 0 0 0 0 0 0 0 0 0 0 0 0 0 0 0 0 0 0 0 0 0 0 0 0 0 0 0 0 0 0 0 0 0 0 0 0 0 0 0 0 0 0 0 0 0 0 0 0 0 0 0 0 0 0 0 0 0 0 0 0 0 0 0 0 0 0 0 0 0 0 0 0 0 0 0 0 0 0 0 0 0 0 0 0 0 0 0 0 0 0 0 0 0 0 0 0 0 0 0 0 0 0 0 0 0 0 0 0 0 0 0 0 0 0 0 0 0 0 0 0 0 0 0 0 0 0 0 0 0 0 0 0 0 0 0 0 0 0 0 0 0 0 0 0 0 0 0 0 0 0 0 0 0 0 0 0 0 0 0 0 0 0 0 0 0 0 0 0 0 0 0 0 0 0 0 0 0 0 0 0 0 0 0 0 0 0 0 0 0 0 0 0 0 0 0 0 0 0 0 0 0 0 0 0 0 0 0 0 0 0 0 0 0 0 0 0 0 0 0 0 0 0 0 0 0 0 0 0 0 0 0 0 0 0 0 0 0 0 0 0 0 0 0 0 0 0 0 0 0 0 0 0 0 0 0 0 0 0 0 0 0 0 0 0 0 0 0 0 0 0 0 0 0 0 0 0 0 0 0 0 0 0 0 0 0 0 0 0 0 0 0 0 0 0 0 0 0 0 0 0 0 0 0 0 0 0 0 0 0 0 0 0 0 0 0 0 0 0 0 0 0 0 0 0 0 0 0 0 0 0 0 0 0 0 0 0 0 0 0 0 0 0 0 0 0 0 0 0 0 0 0 0 0 0 0 0 0 0 0 0 0 0 0 0 0 0 0 0 0 0 0 0 0 0 0 0 0 0 0 0 0 0 0 0 0 0 0 0 0 0 0 0 0 0 0 0 0 0 0 0 0 0 0 0 0 0 0 0 0 0 0 0 0 0 0 0 0 0 0 0 0 0 0 0 0 0 0 0 0 0 0 0 0 0 0 0 0 0 0 0 0 0 0 0 0 0 0 0 0 0 0 0 0 0 0 0 0 0 0 0 0 0 0 0 0 0 0 0 0 0 0 0 0 0 0 0 0 0 0 0 0 0 0 0 0 0 0 0 0 0 0 0 0 0 0 0 0 0 0 0 0 0 0 0 0 0 0 0 0 0 0 0 0 0 0 0 0 0 0 0 0 0 0 0 0 0 0 0 0 0 0 0 0 0 0 0 0 0 0 0 0 0 0 0 0 0 0 0 0 0 0 0 0 0 0 0 0 0 0 0 0 0 0 0 0 0 0 0 0 0 0 0 0 0 0 0 0 0 0 0 0 0 0 0 0 0 0 0 0 0 0 0 0 0 0 0 0 0 0 0 0 0 0 0 0 0 0 0 0 0 0 0 0 0 0 0 0 0 0 0 0 0 0 0 0 0 0 0 0 0 0 0 0 0 0 0 0 0 0 0 0 0 0 0 0 0 0 0 0 0 0 0 0 0 0 0 0 0 0 0 0 0 0 0 0 0 0 0 0 0 0 0 0 0 0 0 0 0 0 0 0 0 0 0 0 0 0 0 0 0 0 0 0 0 0 0 0 0 0 0 0 0 0 0 0 0 0 0 0 0 0 0 0 0 0 0 0 0 0 0 0 0 0 0 0 0 0 0 0 0 0 0 0 0 0 0 0 0 0 0 0 0 0 0 0 0 0 0 0 0 0 0 0 0 0 0 0 0 0 0 0 0 0 0 0 0 0 0 0 0 0 0 0 0 0 0 0 0 0 0 0 0 0 0 0 0 0 0 0 0 0 0 0 0 0 0 0 0 0 0 0 0 0 0 0 0 0 0 0 0 0 0 0 0 0 0 0 0 0 0 0 0 0 0 0 0 0 0 0 0 0 0 0 0 0 0 0 0 0 0 0 0 0 0 0 0 0 0 0 0 0 0 0 0 0 0 0 0 0 0 0 0 0 0 0 0 0 0 0 0 0 0 0 0 0 0 0 0 0 0 0 0 0 0 0 0 0 0 0 0 0 0 0 0 0 0 0 0 0 0 0 0 0 0 0 0 0 0 0 0 0 0 0 0 0 0 0 0 0 0 0 0 0 0 0 0 0 0 0 0 0 0 0 0 0 0 0 0 0 0 0 0 0 0 0 0 0 0 0 0 0 0 0 0 0 0 0 0 0 0 0 0 0 0 0 0 0 0 0 0 0 0 0 0 0 0 0 0 0 0 0 0 0 0 0 0 0 0 0 0 0 0 0 0 0 0 0 0 0 0 0 0 0 0 0 0 0 0 0 0 0 0 0 0 0 0 0 0 0 0 0 0 0 0 0 0 0 0 0 0 0 0 0 0 0 0 0 0 0 0 0 0 0 0 0 0 0 0 0 0 0 0 0 0 0 0 0 0 0 0 0 0 0 0 0 0 0 0 0 0 0 0 0 0 0 0 0 0 0 0 0 0 0 0 0 0 0 0 0 0 0 0 0 0 0 0 0 0 0 0 0 0 0 0 0 0 0 0 0 0 0 0 0 0 0 0 0 0 0 0 0 0 0 0 0 0 0 0 0 0 0 0 0 0 0 0 0 0 0 0 0 0 0 0 0 0 0 0 0 0 0 0 0 0 0 0 0 0 0 0 0 0 0 0 0 0 0 0 0 0 0 0 0 0 0 0 0 0 0 0 0 0 0 0 0 0 0 0 0 0 0 0 0 0 0 0 0 0 0 0 0 0 0 0 0 0 0 0 0 0 0 0 0 0 0 0 0 0 0 0 0 0 0 0 0 0 0 0 0 0 0 0 0 0 0 0 0 0 0 0 0 0 0 0 0 0 0 0 0 0 0 0 0 0 0 0 0 0 0 0 0 0 0 0 0 0 0 0 0 0 0 0 0 0 0 0 0 0 0 0 0 0 0 0 0 0 0 0 0 0 0 0 0 0 0 0 0 0 0 0 0 0 0 0 0 0 0 0 0 0 0 0 0 0 0 0 0 0 0 0 0 0 0 0 0 0 0 0 0 0 0 0 0 0 0 0 0 0 0 0 0 0 0 0 0 0 0 0 0 0 0 0 0 0 0 0 0 0 0 0 0 0 0 0 0 0 0 0 0 0 0 0 0 0 0 0 0 0 0 0 0 0 0 0 0 0 0 0 0 0 0 0 0 0 0 0 0 0 0 0 0 0 0 0 0 0 0 0 0 0 0 0 0 0 0 0 0 0 0 0 0 0 0 0 0 0 0 0 0 0 0 0 0 0 0 0 0 0 0 0 0 0 0 0 0 0 0 0 0 0 0 0 0 0 0 0 0 0 0 0 0 0 0 0 0 0 0 0 0 0 0 0 0 0 0 0 0 0 0 0 0 0 0 0 0 0 0 0 0 0 0 0 0 0 0 0 0 0 0 0 0 0 0 0 0 0 0 0 0 0 0 0 0 0 0 0 0 0 0 0 0 0 0 0 0 0 0 0 0 0 0 0 0 0 0 0 0 0 0 0 0 0 0 0 0 0 0 0 0 0 0 0 0 0 0 0 0 0 0 0 0 0 0 0 0 0 0 0 0 0 0 0 0 0 0 0 0 0 0 0 0 0 0 0 0 0 0 0 0 0 0 0 0 0 0 0 0 0 0 0 0 0 0 0 0 0 0 0 0 0 0 0 0 0 0 0 0 0 0 0 0 0 0 0 0 0 0 0 0 0 0 0 0 0 0 0 0 0 0 0 0 0 0 0 0 0 0 0 0 0 0 0 0 0 0 0 0 0 0 0 0 0 0 0 0 0 0 0 0 0 0 0 0 0 0 0 0 0 0 0 0 0 0 0 0 0 0 0 0 0 0 0 0 0 0 0 0 0 0 0 0 0 0 0 0 0 0 0 0 0 0 0 0 0 0 0 0 0 0 0 0 0 0 0 0 0 0 0 0 0 0 0 0 0 0 0 0 0 0 0 0 0 0 0 0 0 0 0 0 0 0 0 0 0 0 0 0 0 0 0 0 0 0 0 0 0 0 0 0 0 0 0 0 0 0 0 0 0 0 0 0 0 0 0 0 0 0 0 0 0 0 0 0 0 0 0 0 0 0 0 0 0 0 0 0 0 0 0 0 0 0 0 0 0 0 0 0 0 0 0 0 0 0 0 0 0 0 0 0 0 0 0 0 0 0 0 0 0 0 0 0 0 0 0 0 0 0 0 0 0 0 0 0 0 0 0 0 0 0 0 0 0 0 0 0 0 0 0 0 0 0 0 0 0 0 0 0 0 0 0 0 0 0 0 0 0 0 0 0 0 0 0 0 0 0 0 0 0 0 0 0 0 0 0 0 0 0 0 0 0 0 0 0 0 0 0 0 0 0 0 0 0 0 0 0 0 0 0 0 0 0 0 0 0 0 0 0 0 0 0 0 0 0 0 0 0 0 0 0 0 0 0 0 0 0 0 0 0 0 0 0 0 0 0 0 0 0 0 0 0 0 0 0 0 0 0 0 0 0 0 0 0 0 0 0 0 0 0 0 0 0 0 0 0 0 0 0 0 0 0 0 0 0 0 0 0 0 0 0 0 0 0 0 0 0 0 0 0 0 0 0 0 0 0 0 0 0 0 0 0 0 0 0 0 0 0 0 0 0 0 0 0 0 0 0 0 0 0 0 0 0 0 0 0 0 0 0 0 0 0 0 0 0 0 0 0 0 0 0 0 0 0 0 0 0 0 0 0 0 0 0 0 0 0 0 0 0 0 0 0 0 0 0 0 0 0 0 0 0 0 0 0 0 0 0 0 0 0 0 0 0 0 0 0 0 0 0 0 0 0 0 0 0 0 0 0 0 0 0 0 0 0 0 0 0 0 0 0 0 0 0 0 0 0 0 0 0 0 0 0 0 0 0 0 0 0 0 0 0 0 0 0 0 0 0 0 0 0 0 0 0 0 0 0 0 0 0 0 0 0 0 0 0 0 0 0 0 0 0 0 0 0 0 0 0 0 0 0 0 0 0 0 0 0 0 0 0 0 0 0 0 0 0 0 0 0 0 0 0 0 0 0 0 0 0 0 0 0 0 0 0 0 0 0 0 0 0 0 0 0 0 0 0 0 0 0 0 0 0 0 0 0 0 0 0 0 0 0 0 0 0 0 0 0 0 0 0 0 0 0 0 0 0 0 0 0 0 0 0 0 0 0 0 0 0 0 0 0 0 0 0 0 0 0 0 0 0 0 0 0 0 0 0 0 0 0 0 0 0 0 0 0 0 0 0 0 0 0 0 0 0 0 0 0 0 0 0 0 0 0 0 0 0 0 0 0 0 0 0 0 0 0 0 0 0 0 0 0 0 0 0 0 0 0 0 0 0 0 0 0 0 0 0 0 0 0 0 0 0 0 0 0 0 0 0 0 0 0 0 0 0 0 0 0 0 0 0 0 0 0 0 0 0 0 0 0 0 0 0 0 0 0 0 0 0 0 0 0 0 0 0 0 0 0 0 0 0 0 0 0 0 0 0 0 0 0 0 0 0 0 0 0 0 0 0 0 0 0 0 0 0 0 0 0 0 0 0 0 0 0 0 0 0 0 0 0 0 0 0 0 0 0 0 0 0 0 0 0 0 0 0 0 0 0 0 0 0 0 0 0 0 0 0 0 0 0 0 0 0 0 0 0 0 0 0 0 0 0 0 0 0 0 0 0 0 0 0 0 0 0 0 0 0 0 0 0 0 0 0 0 0 0 0 0 0 0 0 0 0 0 0 0 0 0 0 0 0 0 0 0 0 0 0 0 0 0 0 0 0 0 0 0 0 0 0 0 0 0 0 0 0 0 0 0 0 0 0 0 0 0 0 0 0 0 0 0 0 0 0 0 0 0 0 0 0 0 0 0 0 0 0 0 0 0 0 0 0 0 0 0 0 0 0 0 0 0 0 0 0 0 0 0 0 0 0 0 0 0 0 0 0 0 0 0 0 0 0 0 0 0 0 0 0 0 0 0 0 0 0 0 0 0 0 0 0 0 0 0 0 0 0 0 0 0 0 0 0 0 0 0 0 0 0 0 0 0 0 0 0 0 0 0 0 0 0 0 0 0 0 0 0 0 0 0 0 0 0 0 0 0 0 0 0 0 0 0 0 0 0 0 0 0 0 0 0 0 0 0 0 0 0 0 0 0 0 0 0 0 0 0 0 0 0 0 0 0 0 0 0 0 0 0 0 0 0 0 0 0 0 0 0 0 0 0 0 0 0 0 0 0 0 0 0 0 0 0 0 0 0 0 0 0 0 0 0 0 0 0 0 0 0 0 0 0 0 0 0 0 0 0 0 0 0 0 0 0 0 0 0 0 0 0 0 0 0 0 0 0 0 0 0 0 0 0 0 0 0 0 0 0 0 0 0 0 0 0 0 0 0 0 0 0 0 0 0 0 0 0 0 0 0 0 0 0 0 0 0 0 0 0 0 0 0 0 0 0 0 0 0 0 0 0 0 0 0 0 0 0 0 0 0 0 0 0 0 0 0 0 0 0 0 0 0 0 0 0 0 0 0 0 0'"
      ]
     },
     "execution_count": 178,
     "metadata": {},
     "output_type": "execute_result"
    }
   ],
   "source": [
    "\" \".join(str(x) for x in user_product_vec_li[1])"
   ]
  },
  {
   "cell_type": "code",
   "execution_count": 179,
   "metadata": {},
   "outputs": [],
   "source": [
    "random.shuffle?"
   ]
  },
  {
   "cell_type": "code",
   "execution_count": 180,
   "metadata": {},
   "outputs": [
    {
     "name": "stdout",
     "output_type": "stream",
     "text": [
      "# of train data: 2500, # of test_data: 1233\n",
      "[1 1 1 ... 1 3 1]\n"
     ]
    }
   ],
   "source": [
    "from sklearn.cluster import KMeans\n",
    "import random\n",
    "\n",
    "#shuffle\n",
    "random.shuffle(user_product_vec_li)\n",
    "\n",
    "# 학습용 데이터에 사용자 2500명을, 평가용 데이터에 나머지 사용자를 넣습니다.\n",
    "# 학습용 데이터에 있는 사용자 정보만을 가지고 클러스터를 만든 후\n",
    "# 평가용 데이터의 사용자가 어느 클러스터에 속하는지 알아봅니다.\n",
    "train_data = user_product_vec_li[:2500]\n",
    "test_data = user_product_vec_li[2500:]\n",
    "\n",
    "print(\"# of train data:% d, # of test_data: %d\" % (len(train_data),len(test_data)))\n",
    "# 학습 데이터를 군집화하여 4개의 클러스터를 생성한 후 그 결과를 km_predict에 저장합니다.\n",
    "km_predict = KMeans(n_clusters=4, init='k-means++', n_init=10, max_iter=20).fit(train_data)\n",
    "\n",
    "# km_predict 의 predict 함수를 이용하여 평가 데이터가 전 단계에서 만든 4개의 클러스터 중 어느 곳에\n",
    "# 속하는지 살펴봅니다.\n",
    "km_predict_result = km_predict.predict(test_data)\n",
    "print(km_predict_result)\n"
   ]
  },
  {
   "cell_type": "markdown",
   "metadata": {},
   "source": [
    "- 비지도학습\n",
    "- id를 갖고 다닐 필요 없음"
   ]
  },
  {
   "cell_type": "markdown",
   "metadata": {},
   "source": [
    "## K 값을 구하는 방법"
   ]
  },
  {
   "cell_type": "markdown",
   "metadata": {},
   "source": [
    "### 실루엣 계수"
   ]
  },
  {
   "cell_type": "code",
   "execution_count": 185,
   "metadata": {},
   "outputs": [
    {
     "name": "stdout",
     "output_type": "stream",
     "text": [
      "2 0.3446207829790676\n",
      "3 0.21619904936076575\n",
      "4 0.21812172444201042\n",
      "5 0.21608042459998641\n",
      "6 0.2058213261887773\n",
      "7 0.21610452499598454\n",
      "8 0.1834749754471444\n"
     ]
    }
   ],
   "source": [
    "from sklearn.metrics import silhouette_score\n",
    "import numpy as np\n",
    "\n",
    "test_data = np.array(user_product_vec_li)\n",
    "\n",
    "for k in range (2, 9):\n",
    "    km = KMeans(n_clusters=k).fit(test_data)\n",
    "    print(k, silhouette_score(test_data, km.labels_))"
   ]
  },
  {
   "cell_type": "markdown",
   "metadata": {},
   "source": [
    "- 군집은 2가 적합\n",
    "- 군집 성능은 떨어짐"
   ]
  },
  {
   "cell_type": "markdown",
   "metadata": {},
   "source": [
    "### 엘보 계수"
   ]
  },
  {
   "cell_type": "markdown",
   "metadata": {},
   "source": [
    "- 클러스터의 중심과 거리의의 합이 작은 것이 좋음"
   ]
  },
  {
   "cell_type": "markdown",
   "metadata": {},
   "source": [
    "$$\n",
    "SS_w = \\sum_{x \\in C}(x-\\mu c)^2\n",
    "$$"
   ]
  },
  {
   "cell_type": "markdown",
   "metadata": {},
   "source": [
    "- $\\mu c$: 클러스터의 센터"
   ]
  },
  {
   "cell_type": "code",
   "execution_count": 190,
   "metadata": {},
   "outputs": [
    {
     "data": {
      "image/png": "[encoded data removed]",
      "text/plain": [
       "<Figure size 432x288 with 1 Axes>"
      ]
     },
     "metadata": {},
     "output_type": "display_data"
    }
   ],
   "source": [
    "import matplotlib.pyplot as plt\n",
    "\n",
    "ssw_dic={}\n",
    "\n",
    "for k in range(1, 8):\n",
    "    km = KMeans(n_clusters=k).fit(test_data)\n",
    "    ssw_dic[k]=km.inertia_\n",
    "\n",
    "plot_data_x = list(ssw_dic.keys())\n",
    "plot_data_y = list(ssw_dic.values())\n",
    "plt.xlabel (\"# of clusters\")\n",
    "plt.ylabel(\"# within ss\")\n",
    "plt.plot(plot_data_x, plot_data_y)\n",
    "plt.show()"
   ]
  },
  {
   "cell_type": "markdown",
   "metadata": {},
   "source": [
    "- 기울기가 가장 큰곳은 : 1-2사이\n",
    "- 클러스터 갯수는 2로 선정"
   ]
  },
  {
   "cell_type": "markdown",
   "metadata": {},
   "source": [
    "## 정성적인 판단"
   ]
  },
  {
   "cell_type": "markdown",
   "metadata": {},
   "source": [
    "- Keyword fequeny"
   ]
  },
  {
   "cell_type": "code",
   "execution_count": 195,
   "metadata": {},
   "outputs": [
    {
     "name": "stdout",
     "output_type": "stream",
     "text": [
      "Counter({1: 3204, 0: 529})\n",
      "cluster_id: 1\n",
      "[('OF', 19499), ('SET', 19324), ('HEART', 14523), ('BAG', 14098), ('VINTAGE', 13516), ('RED', 13065), ('CHRISTMAS', 10599), ('RETROSPOT', 10436), ('DESIGN', 9706), ('PINK', 8656), ('BOX', 7532), ('CAKE', 7457), ('METAL', 7245), ('3', 6761), ('BLUE', 6368), ('WHITE', 6338), ('HANGING', 6108), ('HOLDER', 5999), ('JUMBO', 5709), ('PACK', 5540)]\n",
      "cluster_id: 0\n",
      "[('OF', 3399), ('SET', 3329), ('VINTAGE', 2426), ('BAG', 2369), ('HEART', 2338), ('RED', 2255), ('CHRISTMAS', 1858), ('RETROSPOT', 1772), ('DESIGN', 1677), ('PINK', 1553), ('BOX', 1321), ('CAKE', 1229), ('METAL', 1183), ('3', 1148), ('BLUE', 1108), ('PACK', 1034), ('WHITE', 991), ('JUMBO', 943), ('SIGN', 916), ('PAPER', 893)]\n"
     ]
    }
   ],
   "source": [
    "def analyze_clusters_keywords(labels,product_id_name_dic,user_product_dic, id_user_dic):\n",
    "    #각 클러스터의 아이디와, 해당 아이디의 클러스터 들어있는 유저 수를 출력합니다. \n",
    "    print(Counter(labels))\n",
    "    cluster_item = {}\n",
    "\n",
    "    for i in range(len(labels)):\n",
    "        cluster_item.setdefault(labels[i], [])\n",
    "\n",
    "        # 각 사용자의 임시 ID i에 대해 사용자 코드를 찾은 후\n",
    "        # 그 사용자 코드와 연결된 구매상품의 ID를 참조한 후\n",
    "        # 그 ID를 이용해 상품명을 찾아\n",
    "        # 딕셔너리에 클러스터 ID를 키로, 상품명을 값으로 추가합니다.\n",
    "        for x in user_product_dic[id_user_dic[i]]:\n",
    "            cluster_item[labels[i]].extend([product_id_name_dic[x]])\n",
    "    \n",
    "    for cluster_id, product_name in cluster_item.items():\n",
    "        \n",
    "        # 각 클러스터안의 상품명을 join명령으로 합쳐 하나의 문자열로 만든 뒤\n",
    "        # 스페이스 혹은 탭으로 스플릿하여 키워드로 분해합니다. \n",
    "        product_name_keyword = (\" \").join(product_name).split()\n",
    "\n",
    "        # 클러스터의 아이디와, 그 아이디를 가지는 클러스터에 속하는 유저들이 구매한 상품들의 상품명안에\n",
    "        # 가장 자주 나타나는 단어 20개를 역순으로 출력합니다\n",
    "        print(\"cluster_id:\", cluster_id)\n",
    "        print(Counter(product_name_keyword).most_common(20))\n",
    "        \n",
    "km=KMeans(n_clusters=2, n_init=10,max_iter=20)\n",
    "km.fit(test_data)\n",
    "analyze_clusters_keywords(km.labels_,product_id_name_dic,user_product_dic,id_user_dic)\n"
   ]
  },
  {
   "cell_type": "markdown",
   "metadata": {},
   "source": [
    "- "
   ]
  },
  {
   "cell_type": "code",
   "execution_count": 197,
   "metadata": {},
   "outputs": [
    {
     "name": "stdout",
     "output_type": "stream",
     "text": [
      "Counter({1: 3203, 0: 530})\n",
      "cluster_id: 1\n",
      "[('RED RETROSPOT', 5557), ('JUMBO BAG', 4641), ('METAL SIGN', 4158), ('T-LIGHT HOLDER', 4101), ('LUNCH BAG', 3989), ('HOT WATER', 3164), ('WATER BOTTLE', 3164), ('CAKE CASES', 3080), ('SET 3', 3010), ('VINTAGE CHRISTMAS', 2875), ('SET 6', 2444), ('DOLLY GIRL', 2198), ('BAG VINTAGE', 2125), ('HANGING HEART', 1963), (\"50'S CHRISTMAS\", 1937), ('VINTAGE DOILY', 1904), ('PACK 12', 1851), ('SET 4', 1851), ('HOME SWEET', 1747), ('SWEET HOME', 1747)]\n",
      "cluster_id: 0\n",
      "[('RED RETROSPOT', 933), ('JUMBO BAG', 773), ('METAL SIGN', 676), ('LUNCH BAG', 673), ('HOT WATER', 565), ('WATER BOTTLE', 565), ('T-LIGHT HOLDER', 545), ('VINTAGE CHRISTMAS', 544), ('SET 3', 527), ('CAKE CASES', 523), ('SET 6', 418), ('DOLLY GIRL', 395), ('PACK 12', 385), (\"50'S CHRISTMAS\", 357), ('BAG VINTAGE', 357), ('VINTAGE DOILY', 341), ('PINK POLKADOT', 296), ('SET 4', 293), ('HOME SWEET', 291), ('SWEET HOME', 290)]\n"
     ]
    }
   ],
   "source": [
    "def analyze_clusters_keywords_bigram(labels,product_id_name_dic,user_product_dic, id_user_dic):\n",
    "    #각 클러스터의 아이디와, 해당 아이디의 클러스터 들어있는 유저 수를 출력합니다. \n",
    "    print(Counter(labels))\n",
    "    cluster_item = {}\n",
    "\n",
    "    for i in range(len(labels)):\n",
    "        cluster_item.setdefault(labels[i], [])\n",
    "\n",
    "        # 각 사용자의 임시 ID i에 대해 사용자 코드를 찾은 후\n",
    "        # 그 사용자 코드와 연결된 구매상품의 ID를 참조한 후\n",
    "        # 그 ID를 이용해 상품명을 찾아\n",
    "        # 딕셔너리에 클러스터 ID를 키로, 상품명을 값으로 추가합니다.\n",
    "        for x in user_product_dic[id_user_dic[i]]:\n",
    "            cluster_item[labels[i]].extend([product_id_name_dic[x]])\n",
    "\n",
    "    for cluster_id, product_name in cluster_item.items():\n",
    "        # 각 클러스터 안의 상품명을 join 명령으로 합쳐 하나의 문자열로 만든 뒤\n",
    "        # OF를 공백으로 리플레이스하고\n",
    "        # 스페이스 혹은 탭으로 스플릿하여 키워드로 분해한 뒤\n",
    "        # 연속되는 두 키워드를 합쳐서 하나의 키워드를 만듭니다.\n",
    "        bigram = []\n",
    "        product_name_keyword = (' ').join(product_name).replace(' OF ', ' ').split()\n",
    "        for i in range(0, len(product_name_keyword) - 1):\n",
    "            bigram.append(' '.join(product_name_keyword[i:i + 2]))\n",
    "        print('cluster_id:', cluster_id)\n",
    "        print(Counter(bigram).most_common(20))\n",
    "        \n",
    "km=KMeans(n_clusters=2, n_init=10,max_iter=20)\n",
    "km.fit(user_product_vec_li)\n",
    "analyze_clusters_keywords_bigram(km.labels_,product_id_name_dic,user_product_dic,id_user_dic)\n"
   ]
  },
  {
   "cell_type": "markdown",
   "metadata": {},
   "source": [
    "- Cluster 통계량"
   ]
  },
  {
   "cell_type": "code",
   "execution_count": 200,
   "metadata": {},
   "outputs": [
    {
     "name": "stdout",
     "output_type": "stream",
     "text": [
      "cluster: 1\n",
      "DescribeResult(nobs=3203, minmax=(2, 573), mean=57.74555104589447, variance=4360.7856415060605, skewness=2.6004316330391606, kurtosis=9.185351121944434)\n",
      "cluster: 0\n",
      "DescribeResult(nobs=530, minmax=(2, 485), mean=59.12641509433962, variance=4285.683421906765, skewness=2.4233752089627516, kurtosis=7.7096663968946135)\n"
     ]
    }
   ],
   "source": [
    "def analyze_clusters_product_count(label, user_product_dic, id_user_dic):\n",
    "    product_len_dic = {}\n",
    "    for i in range(0, len(label)):\n",
    "        product_len_dic.setdefault(label[i], [])\n",
    "        # 클러스터의 ID를 키로 하는 딕셔너리에\n",
    "        # 그 클러스터에 속한 사용자가 구매한 고유 상품의 가짓수를 저장합니다.\n",
    "        product_len_dic[label[i]].append(len(user_product_dic[id_user_dic[i]]))\n",
    "    for k, v in product_len_dic.items():\n",
    "        print('cluster:', k)\n",
    "        print(stats.describe(v))\n",
    "        \n",
    "analyze_clusters_product_count(km.labels_, user_product_dic,id_user_dic)\n"
   ]
  },
  {
   "cell_type": "markdown",
   "metadata": {},
   "source": [
    "## 계층적인 클러스터"
   ]
  },
  {
   "cell_type": "code",
   "execution_count": 201,
   "metadata": {},
   "outputs": [
    {
     "data": {
      "image/png": "[encoded data removed]",
      "text/plain": [
       "<Figure size 432x288 with 1 Axes>"
      ]
     },
     "metadata": {},
     "output_type": "display_data"
    }
   ],
   "source": [
    "\n",
    "from scipy.cluster.hierarchy import linkage\n",
    "from scipy.cluster.hierarchy import dendrogram\n",
    "\n",
    "# scipy의 집괴적 군집화 함수\n",
    "# 이번에는 두 클러스터에 속한 모든 샘플 간의 거리 평균을\n",
    "# 클러스터를 집괴하는 기준으로 합니다.\n",
    "# 거리 함수로는 유클리드 함수를 씁니다.\n",
    "\n",
    "row_clusters = linkage(test_data, method='complete',metric='euclidean')\n",
    "# 사용자 ID를 사용자 코드로 변환합니다.\n",
    "tmp_label=[]\n",
    "for i in range(len(id_user_dic)):\n",
    "    tmp_label.append(id_user_dic[i])\n",
    "    \n",
    "# 플롯을 그립니다.\n",
    "row_denr = dendrogram(row_clusters,labels=tmp_label)\n",
    "plt.tight_layout()\n",
    "plt.ylabel('euclid')\n",
    "plt.show()\n"
   ]
  },
  {
   "cell_type": "code",
   "execution_count": 202,
   "metadata": {},
   "outputs": [
    {
     "name": "stdout",
     "output_type": "stream",
     "text": [
      "Counter({1: 2961, 0: 772})\n",
      "cluster_id: 1\n",
      "[('RED RETROSPOT', 5189), ('JUMBO BAG', 4212), ('METAL SIGN', 3862), ('T-LIGHT HOLDER', 3767), ('LUNCH BAG', 3704), ('HOT WATER', 2945), ('WATER BOTTLE', 2945), ('CAKE CASES', 2878), ('SET 3', 2800), ('VINTAGE CHRISTMAS', 2683), ('SET 6', 2278), ('DOLLY GIRL', 1980), ('BAG VINTAGE', 1953), (\"50'S CHRISTMAS\", 1810), ('HANGING HEART', 1807), ('VINTAGE DOILY', 1766), ('PACK 12', 1756), ('SET 4', 1717), ('HOME SWEET', 1620), ('SWEET HOME', 1620)]\n",
      "cluster_id: 0\n",
      "[('RED RETROSPOT', 1301), ('JUMBO BAG', 1202), ('METAL SIGN', 972), ('LUNCH BAG', 958), ('T-LIGHT HOLDER', 879), ('HOT WATER', 784), ('WATER BOTTLE', 784), ('SET 3', 738), ('VINTAGE CHRISTMAS', 736), ('CAKE CASES', 725), ('DOLLY GIRL', 613), ('SET 6', 584), ('BAG VINTAGE', 530), (\"50'S CHRISTMAS\", 484), ('PACK 12', 480), ('VINTAGE DOILY', 479), ('SET 4', 428), ('UNION JACK', 424), ('HOME SWEET', 418), ('SWEET HOME', 417)]\n"
     ]
    }
   ],
   "source": [
    "from sklearn.cluster import AgglomerativeClustering\n",
    "ward = AgglomerativeClustering(n_clusters=2, affinity='euclidean',linkage='ward')\n",
    "ward.fit(test_data)\n",
    "\n",
    "analyze_clusters_keywords_bigram(ward.labels_,product_id_name_dic,user_product_dic,id_user_dic)\n"
   ]
  },
  {
   "cell_type": "code",
   "execution_count": null,
   "metadata": {},
   "outputs": [],
   "source": []
  }
 ],
 "metadata": {
  "kernelspec": {
   "display_name": "Python 3",
   "language": "python",
   "name": "python3"
  },
  "language_info": {
   "codemirror_mode": {
    "name": "ipython",
    "version": 3
   },
   "file_extension": ".py",
   "mimetype": "text/x-python",
   "name": "python",
   "nbconvert_exporter": "python",
   "pygments_lexer": "ipython3",
   "version": "3.6.5"
  }
 },
 "nbformat": 4,
 "nbformat_minor": 2
}
